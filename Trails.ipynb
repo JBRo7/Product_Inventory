{
  "nbformat": 4,
  "nbformat_minor": 0,
  "metadata": {
    "colab": {
      "name": "Trails.ipynb",
      "provenance": [],
      "collapsed_sections": [
        "cb_AkqtgBiQF",
        "oUaAFYKiBuPr",
        "yNWHC-uMBwRZ",
        "4cwHhsq9Bx7k",
        "24FXs5SAJq5G",
        "MizNqi14B8JS",
        "WmBPN_x0GRd1",
        "40oRR-FdU1Tj"
      ],
      "include_colab_link": true
    },
    "kernelspec": {
      "name": "python3",
      "display_name": "Python 3"
    },
    "language_info": {
      "name": "python"
    }
  },
  "cells": [
    {
      "cell_type": "markdown",
      "metadata": {
        "id": "view-in-github",
        "colab_type": "text"
      },
      "source": [
        "<a href=\"https://colab.research.google.com/github/JBRo7/Product_Inventory/blob/master/Trails.ipynb\" target=\"_parent\"><img src=\"https://colab.research.google.com/assets/colab-badge.svg\" alt=\"Open In Colab\"/></a>"
      ]
    },
    {
      "cell_type": "markdown",
      "source": [
        "# Trails Application\n",
        "\n",
        "This app will be used to make predictions based on values within a CSV file. \n",
        "\n",
        "To Begin, the user will select each cell and press play in the top left corner of each cell to begin running."
      ],
      "metadata": {
        "id": "FB2HAOELCU3W"
      }
    },
    {
      "cell_type": "markdown",
      "source": [
        "##Imports"
      ],
      "metadata": {
        "id": "GwPcgfKVCxsG"
      }
    },
    {
      "cell_type": "code",
      "execution_count": null,
      "metadata": {
        "id": "BTbGoaBTBXrV"
      },
      "outputs": [],
      "source": [
        "from google.colab import files\n",
        "import io\n",
        "from matplotlib import pyplot\n",
        "import matplotlib.pyplot as plt\n",
        "from pandas.plotting import scatter_matrix\n",
        "import pandas as pd\n",
        "import numpy as np\n",
        "import seaborn as sns\n",
        "\n",
        "%matplotlib inline\n",
        "from sklearn.preprocessing import LabelEncoder\n",
        "from sklearn.linear_model import LogisticRegression\n",
        "from sklearn.neighbors import KNeighborsClassifier\n",
        "from sklearn.ensemble import RandomForestClassifier\n",
        "from sklearn.ensemble import RandomForestRegressor\n",
        "from sklearn.model_selection import train_test_split"
      ]
    },
    {
      "cell_type": "markdown",
      "source": [
        "#Get the Data"
      ],
      "metadata": {
        "id": "cb_AkqtgBiQF"
      }
    },
    {
      "cell_type": "markdown",
      "source": [
        "##Get the CSV file to work on Colab. \n",
        "\n",
        "CSV file was originally downloaded from Kaggle. \n",
        "\n",
        "Address:\n",
        " https://www.kaggle.com/datasets/paultimothymooney/trailstrailheadsandrockformationsinboulder?select=OSMP_Trails.csv\n",
        "\n",
        "File Name: \n",
        "OSMP_Trails.csv"
      ],
      "metadata": {
        "id": "LR3tVO4wBAOu"
      }
    },
    {
      "cell_type": "code",
      "source": [
        "#Load the CSV File\n",
        "uploaded = files.upload()\n",
        "\n",
        "#Select the OSMP_Trails.csv file."
      ],
      "metadata": {
        "colab": {
          "resources": {
            "http://localhost:8080/nbextensions/google.colab/files.js": {
              "data": "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",
              "ok": true,
              "headers": [
                [
                  "content-type",
                  "application/javascript"
                ]
              ],
              "status": 200,
              "status_text": ""
            }
          },
          "base_uri": "https://localhost:8080/",
          "height": 73
        },
        "id": "WIui8tUHX_lz",
        "outputId": "2bb327d6-8690-4893-c634-29b2ea14c48b"
      },
      "execution_count": null,
      "outputs": [
        {
          "output_type": "display_data",
          "data": {
            "text/plain": [
              "<IPython.core.display.HTML object>"
            ],
            "text/html": [
              "\n",
              "     <input type=\"file\" id=\"files-b6cc4731-6936-4c6d-9fd2-1aa22f7cc685\" name=\"files[]\" multiple disabled\n",
              "        style=\"border:none\" />\n",
              "     <output id=\"result-b6cc4731-6936-4c6d-9fd2-1aa22f7cc685\">\n",
              "      Upload widget is only available when the cell has been executed in the\n",
              "      current browser session. Please rerun this cell to enable.\n",
              "      </output>\n",
              "      <script src=\"/nbextensions/google.colab/files.js\"></script> "
            ]
          },
          "metadata": {}
        },
        {
          "output_type": "stream",
          "name": "stdout",
          "text": [
            "Saving OSMP_Trails.csv to OSMP_Trails.csv\n"
          ]
        }
      ]
    },
    {
      "cell_type": "code",
      "source": [
        "#removed the mounted version, to make the app easier to use.\n",
        "#TrailsDF = pd.read_csv(\"drive/MyDrive/OSMP_Trails.csv\")\n",
        "\n",
        "\n",
        "TrailsDF = pd.read_csv(io.BytesIO(uploaded['OSMP_Trails.csv']))\n",
        "pd.options.display.max_columns = None\n",
        "\n",
        "TrailsDF.head()"
      ],
      "metadata": {
        "colab": {
          "base_uri": "https://localhost:8080/",
          "height": 357
        },
        "id": "wfOPvFVUBhyu",
        "outputId": "9ece3e24-09c8-4ee6-e7c0-394c86c3c0db"
      },
      "execution_count": null,
      "outputs": [
        {
          "output_type": "execute_result",
          "data": {
            "text/plain": [
              "   GISPROD3OSMPTrailsOSMPOBJECTID GISPROD3OSMPTrailsOSMPOWNER  \\\n",
              "0                            2666                        OSMP   \n",
              "1                            2667                        OSMP   \n",
              "2                            2668                        OSMP   \n",
              "3                            2669                        OSMP   \n",
              "4                            2671                        OSMP   \n",
              "\n",
              "  GISPROD3OSMPTrailsOSMPBICYCLES GISPROD3OSMPTrailsOSMPDISPLAY  \\\n",
              "0                             No                           Yes   \n",
              "1                             No                           Yes   \n",
              "2                             No                           Yes   \n",
              "3                             No                           Yes   \n",
              "4                            Yes                           Yes   \n",
              "\n",
              "  GISPROD3OSMPTrailsOSMPTRAILTYPE GISPROD3OSMPTrailsOSMPDATEFROM  \\\n",
              "0                    Hiking Trail         2005/12/31 00:00:00+00   \n",
              "1                    Hiking Trail         2005/12/31 00:00:00+00   \n",
              "2                    Hiking Trail         2005/12/31 00:00:00+00   \n",
              "3                    Hiking Trail         2005/12/31 00:00:00+00   \n",
              "4                 Multi-Use Trail         2017/07/20 00:00:00+00   \n",
              "\n",
              "  GISPROD3OSMPTrailsOSMPDATETO GISPROD3OSMPTrailsOSMPSEGMENTID  \\\n",
              "0       2099/12/31 00:00:00+00                     289-334-332   \n",
              "1       2099/12/31 00:00:00+00                     289-332-330   \n",
              "2       2099/12/31 00:00:00+00                     289-330-329   \n",
              "3       2099/12/31 00:00:00+00                     289-329-328   \n",
              "4       2099/12/31 00:00:00+00                     518-678-538   \n",
              "\n",
              "  GISPROD3OSMPTrailsOSMPHORSES  GISPROD3OSMPTrailsOSMPRID  \\\n",
              "0                          Yes                       1421   \n",
              "1                          Yes                       1422   \n",
              "2                          Yes                       1424   \n",
              "3                          Yes                       1423   \n",
              "4                          Yes                       1624   \n",
              "\n",
              "   GISPROD3OSMPTrailsOSMPTRLID  GISPROD3OSMPTrailsOSMPMILEAGE  \\\n",
              "0                          289                          0.948   \n",
              "1                          289                          0.108   \n",
              "2                          289                          0.028   \n",
              "3                          289                          0.102   \n",
              "4                          518                          0.812   \n",
              "\n",
              "   GISPROD3OSMPTrailsOSMPMEASUREDFEET GISPROD3OSMPTrailsOSMPTRAILNAME  \\\n",
              "0                             -9999.0                   Mount Sanitas   \n",
              "1                             -9999.0                   Mount Sanitas   \n",
              "2                             -9999.0                   Mount Sanitas   \n",
              "3                             -9999.0                   Mount Sanitas   \n",
              "4                             -9999.0                   IBM Connector   \n",
              "\n",
              "           GISPROD3OSMPTrailsOSMPGlobalID GISPROD3OSMPTrailsOSMPDIFFICULTY  \\\n",
              "0  {CFAEE852-8E0E-4C58-B03F-161E89CEE05E}                        Difficult   \n",
              "1  {E79F0638-7271-46BE-85C5-511B9FA99611}                        Difficult   \n",
              "2  {D97F02B7-AA16-4FB1-AD7A-B8CC1A79E409}                        Difficult   \n",
              "3  {B2FFBAF8-5CA4-4DDE-9EF5-B83CCF6C50BB}                        Difficult   \n",
              "4  {A9DFFC63-5D1B-4392-81C0-949DFD8392E4}                             Easy   \n",
              "\n",
              "  GISPROD3OSMPTrailsOSMPDOGS GISPROD3OSMPTrailsOSMPDOGREGGEN  \\\n",
              "0                        Yes                             LVS   \n",
              "1                        Yes                             LVS   \n",
              "2                        Yes                             LVS   \n",
              "3                        Yes                             LVS   \n",
              "4                        Yes                              LR   \n",
              "\n",
              "    GISPROD3OSMPTrailsOSMPDOGREGDESC  GISPROD3OSMPTrailClosuresOBJECTID  \\\n",
              "0  Leash, Or Voice and Sight Control                               1076   \n",
              "1  Leash, Or Voice and Sight Control                               1077   \n",
              "2  Leash, Or Voice and Sight Control                               1078   \n",
              "3  Leash, Or Voice and Sight Control                               1079   \n",
              "4                     Leash Required                               1604   \n",
              "\n",
              "   GISPROD3OSMPTrailClosuresRID GISPROD3OSMPTrailClosuresCLOSUREDURATION  \\\n",
              "0                        1421.0                                      NaN   \n",
              "1                        1422.0                                      NaN   \n",
              "2                        1424.0                                      NaN   \n",
              "3                        1423.0                                      NaN   \n",
              "4                        1624.0                     Until Further Notice   \n",
              "\n",
              "   GISPROD3OSMPTrailClosuresWEBLINK GISPROD3OSMPTrailClosuresCLOSUREAREA  \\\n",
              "0                               NaN                                  NaN   \n",
              "1                               NaN                                  NaN   \n",
              "2                               NaN                                  NaN   \n",
              "3                               NaN                                  NaN   \n",
              "4                               NaN                                  NaN   \n",
              "\n",
              "  GISPROD3OSMPTrailClosuresTRAILSTATUS GISPROD3OSMPTrailClosuresCLOSUREREASON  \\\n",
              "0                                 Open                                    NaN   \n",
              "1                                 Open                                    NaN   \n",
              "2                                 Open                                    NaN   \n",
              "3                                 Open                                    NaN   \n",
              "4                                 Open                           Construction   \n",
              "\n",
              "  GISPROD3OSMPTrailClosuresLOCATIONDESCRIPTION  \\\n",
              "0                                          NaN   \n",
              "1                                          NaN   \n",
              "2                                          NaN   \n",
              "3                                          NaN   \n",
              "4                                          NaN   \n",
              "\n",
              "                    GISPROD3OSMPTrailClosuresCONTACT  \\\n",
              "0  https://bouldercolorado.gov/services/osmp-clos...   \n",
              "1  https://bouldercolorado.gov/services/osmp-clos...   \n",
              "2  https://bouldercolorado.gov/services/osmp-clos...   \n",
              "3  https://bouldercolorado.gov/services/osmp-clos...   \n",
              "4  https://bouldercolorado.gov/services/osmp-clos...   \n",
              "\n",
              "  GISPROD3OSMPTrailClosuresCOMMENTS       GISPROD3OSMPTrailClosuresGLOBALID  \\\n",
              "0                               NaN  {82CC873D-4FC7-4812-B6A1-0941D20C9A6F}   \n",
              "1                               NaN  {C1D212D8-B4F4-4873-A409-CCE908CB2F5E}   \n",
              "2                               NaN  {2AFC9A76-9C71-401B-BC86-13F1D8F470E3}   \n",
              "3                               NaN  {336ED61F-CED6-4455-BC44-CB914AB379C7}   \n",
              "4                               NaN  {13A86ADE-5F3C-42DF-9BB4-2068A290C8E4}   \n",
              "\n",
              "  GISPROD3OSMPTrailClosuresSEGMENTID  \n",
              "0                        289-334-332  \n",
              "1                        289-332-330  \n",
              "2                        289-330-329  \n",
              "3                        289-329-328  \n",
              "4                        518-678-538  "
            ],
            "text/html": [
              "\n",
              "  <div id=\"df-f5cb70c6-2919-49a0-8bdb-d7a06b32a76d\">\n",
              "    <div class=\"colab-df-container\">\n",
              "      <div>\n",
              "<style scoped>\n",
              "    .dataframe tbody tr th:only-of-type {\n",
              "        vertical-align: middle;\n",
              "    }\n",
              "\n",
              "    .dataframe tbody tr th {\n",
              "        vertical-align: top;\n",
              "    }\n",
              "\n",
              "    .dataframe thead th {\n",
              "        text-align: right;\n",
              "    }\n",
              "</style>\n",
              "<table border=\"1\" class=\"dataframe\">\n",
              "  <thead>\n",
              "    <tr style=\"text-align: right;\">\n",
              "      <th></th>\n",
              "      <th>GISPROD3OSMPTrailsOSMPOBJECTID</th>\n",
              "      <th>GISPROD3OSMPTrailsOSMPOWNER</th>\n",
              "      <th>GISPROD3OSMPTrailsOSMPBICYCLES</th>\n",
              "      <th>GISPROD3OSMPTrailsOSMPDISPLAY</th>\n",
              "      <th>GISPROD3OSMPTrailsOSMPTRAILTYPE</th>\n",
              "      <th>GISPROD3OSMPTrailsOSMPDATEFROM</th>\n",
              "      <th>GISPROD3OSMPTrailsOSMPDATETO</th>\n",
              "      <th>GISPROD3OSMPTrailsOSMPSEGMENTID</th>\n",
              "      <th>GISPROD3OSMPTrailsOSMPHORSES</th>\n",
              "      <th>GISPROD3OSMPTrailsOSMPRID</th>\n",
              "      <th>GISPROD3OSMPTrailsOSMPTRLID</th>\n",
              "      <th>GISPROD3OSMPTrailsOSMPMILEAGE</th>\n",
              "      <th>GISPROD3OSMPTrailsOSMPMEASUREDFEET</th>\n",
              "      <th>GISPROD3OSMPTrailsOSMPTRAILNAME</th>\n",
              "      <th>GISPROD3OSMPTrailsOSMPGlobalID</th>\n",
              "      <th>GISPROD3OSMPTrailsOSMPDIFFICULTY</th>\n",
              "      <th>GISPROD3OSMPTrailsOSMPDOGS</th>\n",
              "      <th>GISPROD3OSMPTrailsOSMPDOGREGGEN</th>\n",
              "      <th>GISPROD3OSMPTrailsOSMPDOGREGDESC</th>\n",
              "      <th>GISPROD3OSMPTrailClosuresOBJECTID</th>\n",
              "      <th>GISPROD3OSMPTrailClosuresRID</th>\n",
              "      <th>GISPROD3OSMPTrailClosuresCLOSUREDURATION</th>\n",
              "      <th>GISPROD3OSMPTrailClosuresWEBLINK</th>\n",
              "      <th>GISPROD3OSMPTrailClosuresCLOSUREAREA</th>\n",
              "      <th>GISPROD3OSMPTrailClosuresTRAILSTATUS</th>\n",
              "      <th>GISPROD3OSMPTrailClosuresCLOSUREREASON</th>\n",
              "      <th>GISPROD3OSMPTrailClosuresLOCATIONDESCRIPTION</th>\n",
              "      <th>GISPROD3OSMPTrailClosuresCONTACT</th>\n",
              "      <th>GISPROD3OSMPTrailClosuresCOMMENTS</th>\n",
              "      <th>GISPROD3OSMPTrailClosuresGLOBALID</th>\n",
              "      <th>GISPROD3OSMPTrailClosuresSEGMENTID</th>\n",
              "    </tr>\n",
              "  </thead>\n",
              "  <tbody>\n",
              "    <tr>\n",
              "      <th>0</th>\n",
              "      <td>2666</td>\n",
              "      <td>OSMP</td>\n",
              "      <td>No</td>\n",
              "      <td>Yes</td>\n",
              "      <td>Hiking Trail</td>\n",
              "      <td>2005/12/31 00:00:00+00</td>\n",
              "      <td>2099/12/31 00:00:00+00</td>\n",
              "      <td>289-334-332</td>\n",
              "      <td>Yes</td>\n",
              "      <td>1421</td>\n",
              "      <td>289</td>\n",
              "      <td>0.948</td>\n",
              "      <td>-9999.0</td>\n",
              "      <td>Mount Sanitas</td>\n",
              "      <td>{CFAEE852-8E0E-4C58-B03F-161E89CEE05E}</td>\n",
              "      <td>Difficult</td>\n",
              "      <td>Yes</td>\n",
              "      <td>LVS</td>\n",
              "      <td>Leash, Or Voice and Sight Control</td>\n",
              "      <td>1076</td>\n",
              "      <td>1421.0</td>\n",
              "      <td>NaN</td>\n",
              "      <td>NaN</td>\n",
              "      <td>NaN</td>\n",
              "      <td>Open</td>\n",
              "      <td>NaN</td>\n",
              "      <td>NaN</td>\n",
              "      <td>https://bouldercolorado.gov/services/osmp-clos...</td>\n",
              "      <td>NaN</td>\n",
              "      <td>{82CC873D-4FC7-4812-B6A1-0941D20C9A6F}</td>\n",
              "      <td>289-334-332</td>\n",
              "    </tr>\n",
              "    <tr>\n",
              "      <th>1</th>\n",
              "      <td>2667</td>\n",
              "      <td>OSMP</td>\n",
              "      <td>No</td>\n",
              "      <td>Yes</td>\n",
              "      <td>Hiking Trail</td>\n",
              "      <td>2005/12/31 00:00:00+00</td>\n",
              "      <td>2099/12/31 00:00:00+00</td>\n",
              "      <td>289-332-330</td>\n",
              "      <td>Yes</td>\n",
              "      <td>1422</td>\n",
              "      <td>289</td>\n",
              "      <td>0.108</td>\n",
              "      <td>-9999.0</td>\n",
              "      <td>Mount Sanitas</td>\n",
              "      <td>{E79F0638-7271-46BE-85C5-511B9FA99611}</td>\n",
              "      <td>Difficult</td>\n",
              "      <td>Yes</td>\n",
              "      <td>LVS</td>\n",
              "      <td>Leash, Or Voice and Sight Control</td>\n",
              "      <td>1077</td>\n",
              "      <td>1422.0</td>\n",
              "      <td>NaN</td>\n",
              "      <td>NaN</td>\n",
              "      <td>NaN</td>\n",
              "      <td>Open</td>\n",
              "      <td>NaN</td>\n",
              "      <td>NaN</td>\n",
              "      <td>https://bouldercolorado.gov/services/osmp-clos...</td>\n",
              "      <td>NaN</td>\n",
              "      <td>{C1D212D8-B4F4-4873-A409-CCE908CB2F5E}</td>\n",
              "      <td>289-332-330</td>\n",
              "    </tr>\n",
              "    <tr>\n",
              "      <th>2</th>\n",
              "      <td>2668</td>\n",
              "      <td>OSMP</td>\n",
              "      <td>No</td>\n",
              "      <td>Yes</td>\n",
              "      <td>Hiking Trail</td>\n",
              "      <td>2005/12/31 00:00:00+00</td>\n",
              "      <td>2099/12/31 00:00:00+00</td>\n",
              "      <td>289-330-329</td>\n",
              "      <td>Yes</td>\n",
              "      <td>1424</td>\n",
              "      <td>289</td>\n",
              "      <td>0.028</td>\n",
              "      <td>-9999.0</td>\n",
              "      <td>Mount Sanitas</td>\n",
              "      <td>{D97F02B7-AA16-4FB1-AD7A-B8CC1A79E409}</td>\n",
              "      <td>Difficult</td>\n",
              "      <td>Yes</td>\n",
              "      <td>LVS</td>\n",
              "      <td>Leash, Or Voice and Sight Control</td>\n",
              "      <td>1078</td>\n",
              "      <td>1424.0</td>\n",
              "      <td>NaN</td>\n",
              "      <td>NaN</td>\n",
              "      <td>NaN</td>\n",
              "      <td>Open</td>\n",
              "      <td>NaN</td>\n",
              "      <td>NaN</td>\n",
              "      <td>https://bouldercolorado.gov/services/osmp-clos...</td>\n",
              "      <td>NaN</td>\n",
              "      <td>{2AFC9A76-9C71-401B-BC86-13F1D8F470E3}</td>\n",
              "      <td>289-330-329</td>\n",
              "    </tr>\n",
              "    <tr>\n",
              "      <th>3</th>\n",
              "      <td>2669</td>\n",
              "      <td>OSMP</td>\n",
              "      <td>No</td>\n",
              "      <td>Yes</td>\n",
              "      <td>Hiking Trail</td>\n",
              "      <td>2005/12/31 00:00:00+00</td>\n",
              "      <td>2099/12/31 00:00:00+00</td>\n",
              "      <td>289-329-328</td>\n",
              "      <td>Yes</td>\n",
              "      <td>1423</td>\n",
              "      <td>289</td>\n",
              "      <td>0.102</td>\n",
              "      <td>-9999.0</td>\n",
              "      <td>Mount Sanitas</td>\n",
              "      <td>{B2FFBAF8-5CA4-4DDE-9EF5-B83CCF6C50BB}</td>\n",
              "      <td>Difficult</td>\n",
              "      <td>Yes</td>\n",
              "      <td>LVS</td>\n",
              "      <td>Leash, Or Voice and Sight Control</td>\n",
              "      <td>1079</td>\n",
              "      <td>1423.0</td>\n",
              "      <td>NaN</td>\n",
              "      <td>NaN</td>\n",
              "      <td>NaN</td>\n",
              "      <td>Open</td>\n",
              "      <td>NaN</td>\n",
              "      <td>NaN</td>\n",
              "      <td>https://bouldercolorado.gov/services/osmp-clos...</td>\n",
              "      <td>NaN</td>\n",
              "      <td>{336ED61F-CED6-4455-BC44-CB914AB379C7}</td>\n",
              "      <td>289-329-328</td>\n",
              "    </tr>\n",
              "    <tr>\n",
              "      <th>4</th>\n",
              "      <td>2671</td>\n",
              "      <td>OSMP</td>\n",
              "      <td>Yes</td>\n",
              "      <td>Yes</td>\n",
              "      <td>Multi-Use Trail</td>\n",
              "      <td>2017/07/20 00:00:00+00</td>\n",
              "      <td>2099/12/31 00:00:00+00</td>\n",
              "      <td>518-678-538</td>\n",
              "      <td>Yes</td>\n",
              "      <td>1624</td>\n",
              "      <td>518</td>\n",
              "      <td>0.812</td>\n",
              "      <td>-9999.0</td>\n",
              "      <td>IBM Connector</td>\n",
              "      <td>{A9DFFC63-5D1B-4392-81C0-949DFD8392E4}</td>\n",
              "      <td>Easy</td>\n",
              "      <td>Yes</td>\n",
              "      <td>LR</td>\n",
              "      <td>Leash Required</td>\n",
              "      <td>1604</td>\n",
              "      <td>1624.0</td>\n",
              "      <td>Until Further Notice</td>\n",
              "      <td>NaN</td>\n",
              "      <td>NaN</td>\n",
              "      <td>Open</td>\n",
              "      <td>Construction</td>\n",
              "      <td>NaN</td>\n",
              "      <td>https://bouldercolorado.gov/services/osmp-clos...</td>\n",
              "      <td>NaN</td>\n",
              "      <td>{13A86ADE-5F3C-42DF-9BB4-2068A290C8E4}</td>\n",
              "      <td>518-678-538</td>\n",
              "    </tr>\n",
              "  </tbody>\n",
              "</table>\n",
              "</div>\n",
              "      <button class=\"colab-df-convert\" onclick=\"convertToInteractive('df-f5cb70c6-2919-49a0-8bdb-d7a06b32a76d')\"\n",
              "              title=\"Convert this dataframe to an interactive table.\"\n",
              "              style=\"display:none;\">\n",
              "        \n",
              "  <svg xmlns=\"http://www.w3.org/2000/svg\" height=\"24px\"viewBox=\"0 0 24 24\"\n",
              "       width=\"24px\">\n",
              "    <path d=\"M0 0h24v24H0V0z\" fill=\"none\"/>\n",
              "    <path d=\"M18.56 5.44l.94 2.06.94-2.06 2.06-.94-2.06-.94-.94-2.06-.94 2.06-2.06.94zm-11 1L8.5 8.5l.94-2.06 2.06-.94-2.06-.94L8.5 2.5l-.94 2.06-2.06.94zm10 10l.94 2.06.94-2.06 2.06-.94-2.06-.94-.94-2.06-.94 2.06-2.06.94z\"/><path d=\"M17.41 7.96l-1.37-1.37c-.4-.4-.92-.59-1.43-.59-.52 0-1.04.2-1.43.59L10.3 9.45l-7.72 7.72c-.78.78-.78 2.05 0 2.83L4 21.41c.39.39.9.59 1.41.59.51 0 1.02-.2 1.41-.59l7.78-7.78 2.81-2.81c.8-.78.8-2.07 0-2.86zM5.41 20L4 18.59l7.72-7.72 1.47 1.35L5.41 20z\"/>\n",
              "  </svg>\n",
              "      </button>\n",
              "      \n",
              "  <style>\n",
              "    .colab-df-container {\n",
              "      display:flex;\n",
              "      flex-wrap:wrap;\n",
              "      gap: 12px;\n",
              "    }\n",
              "\n",
              "    .colab-df-convert {\n",
              "      background-color: #E8F0FE;\n",
              "      border: none;\n",
              "      border-radius: 50%;\n",
              "      cursor: pointer;\n",
              "      display: none;\n",
              "      fill: #1967D2;\n",
              "      height: 32px;\n",
              "      padding: 0 0 0 0;\n",
              "      width: 32px;\n",
              "    }\n",
              "\n",
              "    .colab-df-convert:hover {\n",
              "      background-color: #E2EBFA;\n",
              "      box-shadow: 0px 1px 2px rgba(60, 64, 67, 0.3), 0px 1px 3px 1px rgba(60, 64, 67, 0.15);\n",
              "      fill: #174EA6;\n",
              "    }\n",
              "\n",
              "    [theme=dark] .colab-df-convert {\n",
              "      background-color: #3B4455;\n",
              "      fill: #D2E3FC;\n",
              "    }\n",
              "\n",
              "    [theme=dark] .colab-df-convert:hover {\n",
              "      background-color: #434B5C;\n",
              "      box-shadow: 0px 1px 3px 1px rgba(0, 0, 0, 0.15);\n",
              "      filter: drop-shadow(0px 1px 2px rgba(0, 0, 0, 0.3));\n",
              "      fill: #FFFFFF;\n",
              "    }\n",
              "  </style>\n",
              "\n",
              "      <script>\n",
              "        const buttonEl =\n",
              "          document.querySelector('#df-f5cb70c6-2919-49a0-8bdb-d7a06b32a76d button.colab-df-convert');\n",
              "        buttonEl.style.display =\n",
              "          google.colab.kernel.accessAllowed ? 'block' : 'none';\n",
              "\n",
              "        async function convertToInteractive(key) {\n",
              "          const element = document.querySelector('#df-f5cb70c6-2919-49a0-8bdb-d7a06b32a76d');\n",
              "          const dataTable =\n",
              "            await google.colab.kernel.invokeFunction('convertToInteractive',\n",
              "                                                     [key], {});\n",
              "          if (!dataTable) return;\n",
              "\n",
              "          const docLinkHtml = 'Like what you see? Visit the ' +\n",
              "            '<a target=\"_blank\" href=https://colab.research.google.com/notebooks/data_table.ipynb>data table notebook</a>'\n",
              "            + ' to learn more about interactive tables.';\n",
              "          element.innerHTML = '';\n",
              "          dataTable['output_type'] = 'display_data';\n",
              "          await google.colab.output.renderOutput(dataTable, element);\n",
              "          const docLink = document.createElement('div');\n",
              "          docLink.innerHTML = docLinkHtml;\n",
              "          element.appendChild(docLink);\n",
              "        }\n",
              "      </script>\n",
              "    </div>\n",
              "  </div>\n",
              "  "
            ]
          },
          "metadata": {},
          "execution_count": 3
        }
      ]
    },
    {
      "cell_type": "markdown",
      "source": [
        "#Delete Columns"
      ],
      "metadata": {
        "id": "yNWHC-uMBwRZ"
      }
    },
    {
      "cell_type": "markdown",
      "source": [
        "Remove columns that are not going to be used."
      ],
      "metadata": {
        "id": "FV3p4qHnBn7m"
      }
    },
    {
      "cell_type": "code",
      "source": [
        "TrailsDF.drop(TrailsDF.columns[[1, 7, 9, 10, 19, 20, 21, 22, 23, 25, 26, 27, 28, 29, 30]], axis=1, inplace=True)"
      ],
      "metadata": {
        "id": "iunNh94kBlKp",
        "colab": {
          "base_uri": "https://localhost:8080/",
          "height": 287
        },
        "outputId": "fd1c1883-6ffe-4aa0-d230-3693fa42d7c1"
      },
      "execution_count": null,
      "outputs": [
        {
          "output_type": "error",
          "ename": "IndexError",
          "evalue": "ignored",
          "traceback": [
            "\u001b[0;31m---------------------------------------------------------------------------\u001b[0m",
            "\u001b[0;31mIndexError\u001b[0m                                Traceback (most recent call last)",
            "\u001b[0;32m<ipython-input-9-4732cebe4764>\u001b[0m in \u001b[0;36m<module>\u001b[0;34m()\u001b[0m\n\u001b[0;32m----> 1\u001b[0;31m \u001b[0mTrailsDF\u001b[0m\u001b[0;34m.\u001b[0m\u001b[0mdrop\u001b[0m\u001b[0;34m(\u001b[0m\u001b[0mTrailsDF\u001b[0m\u001b[0;34m.\u001b[0m\u001b[0mcolumns\u001b[0m\u001b[0;34m[\u001b[0m\u001b[0;34m[\u001b[0m\u001b[0;36m1\u001b[0m\u001b[0;34m,\u001b[0m \u001b[0;36m7\u001b[0m\u001b[0;34m,\u001b[0m \u001b[0;36m9\u001b[0m\u001b[0;34m,\u001b[0m \u001b[0;36m10\u001b[0m\u001b[0;34m,\u001b[0m \u001b[0;36m19\u001b[0m\u001b[0;34m,\u001b[0m \u001b[0;36m20\u001b[0m\u001b[0;34m,\u001b[0m \u001b[0;36m21\u001b[0m\u001b[0;34m,\u001b[0m \u001b[0;36m22\u001b[0m\u001b[0;34m,\u001b[0m \u001b[0;36m23\u001b[0m\u001b[0;34m,\u001b[0m \u001b[0;36m25\u001b[0m\u001b[0;34m,\u001b[0m \u001b[0;36m26\u001b[0m\u001b[0;34m,\u001b[0m \u001b[0;36m27\u001b[0m\u001b[0;34m,\u001b[0m \u001b[0;36m28\u001b[0m\u001b[0;34m,\u001b[0m \u001b[0;36m29\u001b[0m\u001b[0;34m,\u001b[0m \u001b[0;36m30\u001b[0m\u001b[0;34m]\u001b[0m\u001b[0;34m]\u001b[0m\u001b[0;34m,\u001b[0m \u001b[0maxis\u001b[0m\u001b[0;34m=\u001b[0m\u001b[0;36m1\u001b[0m\u001b[0;34m,\u001b[0m \u001b[0minplace\u001b[0m\u001b[0;34m=\u001b[0m\u001b[0;32mTrue\u001b[0m\u001b[0;34m)\u001b[0m\u001b[0;34m\u001b[0m\u001b[0;34m\u001b[0m\u001b[0m\n\u001b[0m",
            "\u001b[0;32m/usr/local/lib/python3.7/dist-packages/pandas/core/indexes/base.py\u001b[0m in \u001b[0;36m__getitem__\u001b[0;34m(self, key)\u001b[0m\n\u001b[1;32m   4614\u001b[0m             \u001b[0mkey\u001b[0m \u001b[0;34m=\u001b[0m \u001b[0mnp\u001b[0m\u001b[0;34m.\u001b[0m\u001b[0masarray\u001b[0m\u001b[0;34m(\u001b[0m\u001b[0mkey\u001b[0m\u001b[0;34m,\u001b[0m \u001b[0mdtype\u001b[0m\u001b[0;34m=\u001b[0m\u001b[0mbool\u001b[0m\u001b[0;34m)\u001b[0m\u001b[0;34m\u001b[0m\u001b[0;34m\u001b[0m\u001b[0m\n\u001b[1;32m   4615\u001b[0m \u001b[0;34m\u001b[0m\u001b[0m\n\u001b[0;32m-> 4616\u001b[0;31m         \u001b[0mresult\u001b[0m \u001b[0;34m=\u001b[0m \u001b[0mgetitem\u001b[0m\u001b[0;34m(\u001b[0m\u001b[0mkey\u001b[0m\u001b[0;34m)\u001b[0m\u001b[0;34m\u001b[0m\u001b[0;34m\u001b[0m\u001b[0m\n\u001b[0m\u001b[1;32m   4617\u001b[0m         \u001b[0;32mif\u001b[0m \u001b[0;32mnot\u001b[0m \u001b[0mis_scalar\u001b[0m\u001b[0;34m(\u001b[0m\u001b[0mresult\u001b[0m\u001b[0;34m)\u001b[0m\u001b[0;34m:\u001b[0m\u001b[0;34m\u001b[0m\u001b[0;34m\u001b[0m\u001b[0m\n\u001b[1;32m   4618\u001b[0m             \u001b[0;31m# error: Argument 1 to \"ndim\" has incompatible type \"Union[ExtensionArray,\u001b[0m\u001b[0;34m\u001b[0m\u001b[0;34m\u001b[0m\u001b[0;34m\u001b[0m\u001b[0m\n",
            "\u001b[0;31mIndexError\u001b[0m: index 19 is out of bounds for axis 0 with size 16"
          ]
        }
      ]
    },
    {
      "cell_type": "markdown",
      "source": [
        "#Rename Columns"
      ],
      "metadata": {
        "id": "4cwHhsq9Bx7k"
      }
    },
    {
      "cell_type": "markdown",
      "source": [
        "Give Columns unique names so that they are easily identifiable.\n",
        "This will make them easier to use later on"
      ],
      "metadata": {
        "id": "cmOA0X_-BuXc"
      }
    },
    {
      "cell_type": "code",
      "source": [
        "TrailsDF.rename({\"GISPROD3OSMPTrailsOSMPOBJECTID\": \"ID\", \"GISPROD3OSMPTrailsOSMPBICYCLES\": \"Bicycles\", \"GISPROD3OSMPTrailsOSMPDISPLAY\": \"Display\", \"GISPROD3OSMPTrailsOSMPTRAILTYPE\": \"TrailType\", \"GISPROD3OSMPTrailsOSMPDATEFROM\": \"DateFrom\", \"GISPROD3OSMPTrailsOSMPDATETO\": \"DateTo\", \"GISPROD3OSMPTrailsOSMPHORSES\": \"Horses\", \"GISPROD3OSMPTrailsOSMPMILEAGE\": \"Mileage\", \"GISPROD3OSMPTrailsOSMPMEASUREDFEET\": \"Height\", \"GISPROD3OSMPTrailsOSMPTRAILNAME\": \"TrailName\", \"GISPROD3OSMPTrailsOSMPGlobalID\": \"GlobalID\", \"GISPROD3OSMPTrailsOSMPDIFFICULTY\": \"Difficulty\", \"GISPROD3OSMPTrailsOSMPDOGS\": \"DogsAllowed\", \"GISPROD3OSMPTrailsOSMPDOGREGGEN\": \"DogReqABV\", \"GISPROD3OSMPTrailsOSMPDOGREGDESC\": \"DogReq\", \"GISPROD3OSMPTrailClosuresTRAILSTATUS\": \"TrailStatus\"}, axis =1, inplace = True)\n",
        "TrailsDF"
      ],
      "metadata": {
        "colab": {
          "base_uri": "https://localhost:8080/"
        },
        "id": "wWREuisuB2sN",
        "outputId": "a9fe19d2-86b8-4726-c0a6-aa0b8c1cc595"
      },
      "execution_count": null,
      "outputs": [
        {
          "output_type": "execute_result",
          "data": {
            "text/plain": [
              "       ID Bicycles Display        TrailType                DateFrom  \\\n",
              "0    2666       No     Yes     Hiking Trail  2005/12/31 00:00:00+00   \n",
              "1    2667       No     Yes     Hiking Trail  2005/12/31 00:00:00+00   \n",
              "2    2668       No     Yes     Hiking Trail  2005/12/31 00:00:00+00   \n",
              "3    2669       No     Yes     Hiking Trail  2005/12/31 00:00:00+00   \n",
              "4    2671      Yes     Yes  Multi-Use Trail  2017/07/20 00:00:00+00   \n",
              "..    ...      ...     ...              ...                     ...   \n",
              "575  4076      Yes     Yes  Multi-Use Trail  2022/03/01 00:00:00+00   \n",
              "576  4077      Yes     Yes  Multi-Use Trail  2022/03/01 00:00:00+00   \n",
              "577  4078       No     Yes     Hiking Trail  2021/09/13 00:00:00+00   \n",
              "578  4079       No     Yes     Hiking Trail  2021/09/13 00:00:00+00   \n",
              "579  4080       No     Yes     Hiking Trail  2021/08/31 00:00:00+00   \n",
              "\n",
              "                     DateTo Horses  Mileage   Height        TrailName  \\\n",
              "0    2099/12/31 00:00:00+00    Yes    0.948  -9999.0    Mount Sanitas   \n",
              "1    2099/12/31 00:00:00+00    Yes    0.108  -9999.0    Mount Sanitas   \n",
              "2    2099/12/31 00:00:00+00    Yes    0.028  -9999.0    Mount Sanitas   \n",
              "3    2099/12/31 00:00:00+00    Yes    0.102  -9999.0    Mount Sanitas   \n",
              "4    2099/12/31 00:00:00+00    Yes    0.812  -9999.0    IBM Connector   \n",
              "..                      ...    ...      ...      ...              ...   \n",
              "575  2099/12/31 00:00:00+00    Yes    0.671      NaN       Cottontail   \n",
              "576  2099/12/31 00:00:00+00    Yes    0.496      NaN       Cottontail   \n",
              "577  2099/12/31 00:00:00+00    Yes    0.059    311.0   Bluebell-Baird   \n",
              "578  2099/12/31 00:00:00+00    Yes    0.033      NaN   Bluebell-Baird   \n",
              "579  2099/12/31 00:00:00+00    Yes    2.434  12920.0  Eldorado Canyon   \n",
              "\n",
              "                                   GlobalID Difficulty DogsAllowed DogReqABV  \\\n",
              "0    {CFAEE852-8E0E-4C58-B03F-161E89CEE05E}  Difficult         Yes       LVS   \n",
              "1    {E79F0638-7271-46BE-85C5-511B9FA99611}  Difficult         Yes       LVS   \n",
              "2    {D97F02B7-AA16-4FB1-AD7A-B8CC1A79E409}  Difficult         Yes       LVS   \n",
              "3    {B2FFBAF8-5CA4-4DDE-9EF5-B83CCF6C50BB}  Difficult         Yes       LVS   \n",
              "4    {A9DFFC63-5D1B-4392-81C0-949DFD8392E4}       Easy         Yes        LR   \n",
              "..                                      ...        ...         ...       ...   \n",
              "575  {09A13092-A2E8-4E57-9A89-5088AE0A44A1}   Moderate         Yes        LR   \n",
              "576  {41420D2F-A05C-41F5-B941-88190324AF80}   Moderate         Yes        LR   \n",
              "577  {E481DBB2-384F-4C7A-8F46-D43615B6D28D}   Moderate         Yes       LVS   \n",
              "578  {93ECCF88-9706-47FD-8E01-F9A8B1DD8F67}   Moderate         Yes       LVS   \n",
              "579  {F189D9F2-A25A-4512-9434-238EB8017A40}  Difficult         Yes        LR   \n",
              "\n",
              "                                DogReq TrailStatus  \n",
              "0    Leash, Or Voice and Sight Control        Open  \n",
              "1    Leash, Or Voice and Sight Control        Open  \n",
              "2    Leash, Or Voice and Sight Control        Open  \n",
              "3    Leash, Or Voice and Sight Control        Open  \n",
              "4                       Leash Required        Open  \n",
              "..                                 ...         ...  \n",
              "575                     Leash Required      Closed  \n",
              "576                     Leash Required        Open  \n",
              "577  Leash, Or Voice and Sight Control        Open  \n",
              "578  Leash, Or Voice and Sight Control        Open  \n",
              "579                     Leash Required        Open  \n",
              "\n",
              "[580 rows x 16 columns]"
            ],
            "text/html": [
              "\n",
              "  <div id=\"df-287887ef-4114-4243-a286-444460ecb356\">\n",
              "    <div class=\"colab-df-container\">\n",
              "      <div>\n",
              "<style scoped>\n",
              "    .dataframe tbody tr th:only-of-type {\n",
              "        vertical-align: middle;\n",
              "    }\n",
              "\n",
              "    .dataframe tbody tr th {\n",
              "        vertical-align: top;\n",
              "    }\n",
              "\n",
              "    .dataframe thead th {\n",
              "        text-align: right;\n",
              "    }\n",
              "</style>\n",
              "<table border=\"1\" class=\"dataframe\">\n",
              "  <thead>\n",
              "    <tr style=\"text-align: right;\">\n",
              "      <th></th>\n",
              "      <th>ID</th>\n",
              "      <th>Bicycles</th>\n",
              "      <th>Display</th>\n",
              "      <th>TrailType</th>\n",
              "      <th>DateFrom</th>\n",
              "      <th>DateTo</th>\n",
              "      <th>Horses</th>\n",
              "      <th>Mileage</th>\n",
              "      <th>Height</th>\n",
              "      <th>TrailName</th>\n",
              "      <th>GlobalID</th>\n",
              "      <th>Difficulty</th>\n",
              "      <th>DogsAllowed</th>\n",
              "      <th>DogReqABV</th>\n",
              "      <th>DogReq</th>\n",
              "      <th>TrailStatus</th>\n",
              "    </tr>\n",
              "  </thead>\n",
              "  <tbody>\n",
              "    <tr>\n",
              "      <th>0</th>\n",
              "      <td>2666</td>\n",
              "      <td>No</td>\n",
              "      <td>Yes</td>\n",
              "      <td>Hiking Trail</td>\n",
              "      <td>2005/12/31 00:00:00+00</td>\n",
              "      <td>2099/12/31 00:00:00+00</td>\n",
              "      <td>Yes</td>\n",
              "      <td>0.948</td>\n",
              "      <td>-9999.0</td>\n",
              "      <td>Mount Sanitas</td>\n",
              "      <td>{CFAEE852-8E0E-4C58-B03F-161E89CEE05E}</td>\n",
              "      <td>Difficult</td>\n",
              "      <td>Yes</td>\n",
              "      <td>LVS</td>\n",
              "      <td>Leash, Or Voice and Sight Control</td>\n",
              "      <td>Open</td>\n",
              "    </tr>\n",
              "    <tr>\n",
              "      <th>1</th>\n",
              "      <td>2667</td>\n",
              "      <td>No</td>\n",
              "      <td>Yes</td>\n",
              "      <td>Hiking Trail</td>\n",
              "      <td>2005/12/31 00:00:00+00</td>\n",
              "      <td>2099/12/31 00:00:00+00</td>\n",
              "      <td>Yes</td>\n",
              "      <td>0.108</td>\n",
              "      <td>-9999.0</td>\n",
              "      <td>Mount Sanitas</td>\n",
              "      <td>{E79F0638-7271-46BE-85C5-511B9FA99611}</td>\n",
              "      <td>Difficult</td>\n",
              "      <td>Yes</td>\n",
              "      <td>LVS</td>\n",
              "      <td>Leash, Or Voice and Sight Control</td>\n",
              "      <td>Open</td>\n",
              "    </tr>\n",
              "    <tr>\n",
              "      <th>2</th>\n",
              "      <td>2668</td>\n",
              "      <td>No</td>\n",
              "      <td>Yes</td>\n",
              "      <td>Hiking Trail</td>\n",
              "      <td>2005/12/31 00:00:00+00</td>\n",
              "      <td>2099/12/31 00:00:00+00</td>\n",
              "      <td>Yes</td>\n",
              "      <td>0.028</td>\n",
              "      <td>-9999.0</td>\n",
              "      <td>Mount Sanitas</td>\n",
              "      <td>{D97F02B7-AA16-4FB1-AD7A-B8CC1A79E409}</td>\n",
              "      <td>Difficult</td>\n",
              "      <td>Yes</td>\n",
              "      <td>LVS</td>\n",
              "      <td>Leash, Or Voice and Sight Control</td>\n",
              "      <td>Open</td>\n",
              "    </tr>\n",
              "    <tr>\n",
              "      <th>3</th>\n",
              "      <td>2669</td>\n",
              "      <td>No</td>\n",
              "      <td>Yes</td>\n",
              "      <td>Hiking Trail</td>\n",
              "      <td>2005/12/31 00:00:00+00</td>\n",
              "      <td>2099/12/31 00:00:00+00</td>\n",
              "      <td>Yes</td>\n",
              "      <td>0.102</td>\n",
              "      <td>-9999.0</td>\n",
              "      <td>Mount Sanitas</td>\n",
              "      <td>{B2FFBAF8-5CA4-4DDE-9EF5-B83CCF6C50BB}</td>\n",
              "      <td>Difficult</td>\n",
              "      <td>Yes</td>\n",
              "      <td>LVS</td>\n",
              "      <td>Leash, Or Voice and Sight Control</td>\n",
              "      <td>Open</td>\n",
              "    </tr>\n",
              "    <tr>\n",
              "      <th>4</th>\n",
              "      <td>2671</td>\n",
              "      <td>Yes</td>\n",
              "      <td>Yes</td>\n",
              "      <td>Multi-Use Trail</td>\n",
              "      <td>2017/07/20 00:00:00+00</td>\n",
              "      <td>2099/12/31 00:00:00+00</td>\n",
              "      <td>Yes</td>\n",
              "      <td>0.812</td>\n",
              "      <td>-9999.0</td>\n",
              "      <td>IBM Connector</td>\n",
              "      <td>{A9DFFC63-5D1B-4392-81C0-949DFD8392E4}</td>\n",
              "      <td>Easy</td>\n",
              "      <td>Yes</td>\n",
              "      <td>LR</td>\n",
              "      <td>Leash Required</td>\n",
              "      <td>Open</td>\n",
              "    </tr>\n",
              "    <tr>\n",
              "      <th>...</th>\n",
              "      <td>...</td>\n",
              "      <td>...</td>\n",
              "      <td>...</td>\n",
              "      <td>...</td>\n",
              "      <td>...</td>\n",
              "      <td>...</td>\n",
              "      <td>...</td>\n",
              "      <td>...</td>\n",
              "      <td>...</td>\n",
              "      <td>...</td>\n",
              "      <td>...</td>\n",
              "      <td>...</td>\n",
              "      <td>...</td>\n",
              "      <td>...</td>\n",
              "      <td>...</td>\n",
              "      <td>...</td>\n",
              "    </tr>\n",
              "    <tr>\n",
              "      <th>575</th>\n",
              "      <td>4076</td>\n",
              "      <td>Yes</td>\n",
              "      <td>Yes</td>\n",
              "      <td>Multi-Use Trail</td>\n",
              "      <td>2022/03/01 00:00:00+00</td>\n",
              "      <td>2099/12/31 00:00:00+00</td>\n",
              "      <td>Yes</td>\n",
              "      <td>0.671</td>\n",
              "      <td>NaN</td>\n",
              "      <td>Cottontail</td>\n",
              "      <td>{09A13092-A2E8-4E57-9A89-5088AE0A44A1}</td>\n",
              "      <td>Moderate</td>\n",
              "      <td>Yes</td>\n",
              "      <td>LR</td>\n",
              "      <td>Leash Required</td>\n",
              "      <td>Closed</td>\n",
              "    </tr>\n",
              "    <tr>\n",
              "      <th>576</th>\n",
              "      <td>4077</td>\n",
              "      <td>Yes</td>\n",
              "      <td>Yes</td>\n",
              "      <td>Multi-Use Trail</td>\n",
              "      <td>2022/03/01 00:00:00+00</td>\n",
              "      <td>2099/12/31 00:00:00+00</td>\n",
              "      <td>Yes</td>\n",
              "      <td>0.496</td>\n",
              "      <td>NaN</td>\n",
              "      <td>Cottontail</td>\n",
              "      <td>{41420D2F-A05C-41F5-B941-88190324AF80}</td>\n",
              "      <td>Moderate</td>\n",
              "      <td>Yes</td>\n",
              "      <td>LR</td>\n",
              "      <td>Leash Required</td>\n",
              "      <td>Open</td>\n",
              "    </tr>\n",
              "    <tr>\n",
              "      <th>577</th>\n",
              "      <td>4078</td>\n",
              "      <td>No</td>\n",
              "      <td>Yes</td>\n",
              "      <td>Hiking Trail</td>\n",
              "      <td>2021/09/13 00:00:00+00</td>\n",
              "      <td>2099/12/31 00:00:00+00</td>\n",
              "      <td>Yes</td>\n",
              "      <td>0.059</td>\n",
              "      <td>311.0</td>\n",
              "      <td>Bluebell-Baird</td>\n",
              "      <td>{E481DBB2-384F-4C7A-8F46-D43615B6D28D}</td>\n",
              "      <td>Moderate</td>\n",
              "      <td>Yes</td>\n",
              "      <td>LVS</td>\n",
              "      <td>Leash, Or Voice and Sight Control</td>\n",
              "      <td>Open</td>\n",
              "    </tr>\n",
              "    <tr>\n",
              "      <th>578</th>\n",
              "      <td>4079</td>\n",
              "      <td>No</td>\n",
              "      <td>Yes</td>\n",
              "      <td>Hiking Trail</td>\n",
              "      <td>2021/09/13 00:00:00+00</td>\n",
              "      <td>2099/12/31 00:00:00+00</td>\n",
              "      <td>Yes</td>\n",
              "      <td>0.033</td>\n",
              "      <td>NaN</td>\n",
              "      <td>Bluebell-Baird</td>\n",
              "      <td>{93ECCF88-9706-47FD-8E01-F9A8B1DD8F67}</td>\n",
              "      <td>Moderate</td>\n",
              "      <td>Yes</td>\n",
              "      <td>LVS</td>\n",
              "      <td>Leash, Or Voice and Sight Control</td>\n",
              "      <td>Open</td>\n",
              "    </tr>\n",
              "    <tr>\n",
              "      <th>579</th>\n",
              "      <td>4080</td>\n",
              "      <td>No</td>\n",
              "      <td>Yes</td>\n",
              "      <td>Hiking Trail</td>\n",
              "      <td>2021/08/31 00:00:00+00</td>\n",
              "      <td>2099/12/31 00:00:00+00</td>\n",
              "      <td>Yes</td>\n",
              "      <td>2.434</td>\n",
              "      <td>12920.0</td>\n",
              "      <td>Eldorado Canyon</td>\n",
              "      <td>{F189D9F2-A25A-4512-9434-238EB8017A40}</td>\n",
              "      <td>Difficult</td>\n",
              "      <td>Yes</td>\n",
              "      <td>LR</td>\n",
              "      <td>Leash Required</td>\n",
              "      <td>Open</td>\n",
              "    </tr>\n",
              "  </tbody>\n",
              "</table>\n",
              "<p>580 rows × 16 columns</p>\n",
              "</div>\n",
              "      <button class=\"colab-df-convert\" onclick=\"convertToInteractive('df-287887ef-4114-4243-a286-444460ecb356')\"\n",
              "              title=\"Convert this dataframe to an interactive table.\"\n",
              "              style=\"display:none;\">\n",
              "        \n",
              "  <svg xmlns=\"http://www.w3.org/2000/svg\" height=\"24px\"viewBox=\"0 0 24 24\"\n",
              "       width=\"24px\">\n",
              "    <path d=\"M0 0h24v24H0V0z\" fill=\"none\"/>\n",
              "    <path d=\"M18.56 5.44l.94 2.06.94-2.06 2.06-.94-2.06-.94-.94-2.06-.94 2.06-2.06.94zm-11 1L8.5 8.5l.94-2.06 2.06-.94-2.06-.94L8.5 2.5l-.94 2.06-2.06.94zm10 10l.94 2.06.94-2.06 2.06-.94-2.06-.94-.94-2.06-.94 2.06-2.06.94z\"/><path d=\"M17.41 7.96l-1.37-1.37c-.4-.4-.92-.59-1.43-.59-.52 0-1.04.2-1.43.59L10.3 9.45l-7.72 7.72c-.78.78-.78 2.05 0 2.83L4 21.41c.39.39.9.59 1.41.59.51 0 1.02-.2 1.41-.59l7.78-7.78 2.81-2.81c.8-.78.8-2.07 0-2.86zM5.41 20L4 18.59l7.72-7.72 1.47 1.35L5.41 20z\"/>\n",
              "  </svg>\n",
              "      </button>\n",
              "      \n",
              "  <style>\n",
              "    .colab-df-container {\n",
              "      display:flex;\n",
              "      flex-wrap:wrap;\n",
              "      gap: 12px;\n",
              "    }\n",
              "\n",
              "    .colab-df-convert {\n",
              "      background-color: #E8F0FE;\n",
              "      border: none;\n",
              "      border-radius: 50%;\n",
              "      cursor: pointer;\n",
              "      display: none;\n",
              "      fill: #1967D2;\n",
              "      height: 32px;\n",
              "      padding: 0 0 0 0;\n",
              "      width: 32px;\n",
              "    }\n",
              "\n",
              "    .colab-df-convert:hover {\n",
              "      background-color: #E2EBFA;\n",
              "      box-shadow: 0px 1px 2px rgba(60, 64, 67, 0.3), 0px 1px 3px 1px rgba(60, 64, 67, 0.15);\n",
              "      fill: #174EA6;\n",
              "    }\n",
              "\n",
              "    [theme=dark] .colab-df-convert {\n",
              "      background-color: #3B4455;\n",
              "      fill: #D2E3FC;\n",
              "    }\n",
              "\n",
              "    [theme=dark] .colab-df-convert:hover {\n",
              "      background-color: #434B5C;\n",
              "      box-shadow: 0px 1px 3px 1px rgba(0, 0, 0, 0.15);\n",
              "      filter: drop-shadow(0px 1px 2px rgba(0, 0, 0, 0.3));\n",
              "      fill: #FFFFFF;\n",
              "    }\n",
              "  </style>\n",
              "\n",
              "      <script>\n",
              "        const buttonEl =\n",
              "          document.querySelector('#df-287887ef-4114-4243-a286-444460ecb356 button.colab-df-convert');\n",
              "        buttonEl.style.display =\n",
              "          google.colab.kernel.accessAllowed ? 'block' : 'none';\n",
              "\n",
              "        async function convertToInteractive(key) {\n",
              "          const element = document.querySelector('#df-287887ef-4114-4243-a286-444460ecb356');\n",
              "          const dataTable =\n",
              "            await google.colab.kernel.invokeFunction('convertToInteractive',\n",
              "                                                     [key], {});\n",
              "          if (!dataTable) return;\n",
              "\n",
              "          const docLinkHtml = 'Like what you see? Visit the ' +\n",
              "            '<a target=\"_blank\" href=https://colab.research.google.com/notebooks/data_table.ipynb>data table notebook</a>'\n",
              "            + ' to learn more about interactive tables.';\n",
              "          element.innerHTML = '';\n",
              "          dataTable['output_type'] = 'display_data';\n",
              "          await google.colab.output.renderOutput(dataTable, element);\n",
              "          const docLink = document.createElement('div');\n",
              "          docLink.innerHTML = docLinkHtml;\n",
              "          element.appendChild(docLink);\n",
              "        }\n",
              "      </script>\n",
              "    </div>\n",
              "  </div>\n",
              "  "
            ]
          },
          "metadata": {},
          "execution_count": 5
        }
      ]
    },
    {
      "cell_type": "markdown",
      "source": [
        "##Remove some Height Outliers"
      ],
      "metadata": {
        "id": "24FXs5SAJq5G"
      }
    },
    {
      "cell_type": "markdown",
      "source": [
        "There were some outliers on the lower end at -9999. This height is not relevant and was removed"
      ],
      "metadata": {
        "id": "TcWpQASvB6Hy"
      }
    },
    {
      "cell_type": "code",
      "source": [
        "#Remove the outliers on Height\n",
        "\n",
        "TrailsDF_Filter = TrailsDF[\"Height\"].quantile(0.01)\n",
        "TrailsDF = TrailsDF[(TrailsDF[\"Height\"] > TrailsDF_Filter)]\n",
        "TrailsDF"
      ],
      "metadata": {
        "colab": {
          "base_uri": "https://localhost:8080/"
        },
        "id": "1gYzA0YrNqzC",
        "outputId": "4f8293ee-14c1-4586-c524-b83f2a507ab7"
      },
      "execution_count": null,
      "outputs": [
        {
          "output_type": "execute_result",
          "data": {
            "text/plain": [
              "       ID Bicycles Display        TrailType                DateFrom  \\\n",
              "7    2675       No     Yes     Hiking Trail  2021/07/28 00:00:00+00   \n",
              "9    2679       No     Yes     Hiking Trail  2021/07/28 00:00:00+00   \n",
              "10   2680      Yes     Yes  Multi-Use Trail  2016/06/07 00:00:00+00   \n",
              "11   2681       No     Yes     Hiking Trail  2015/04/08 00:00:00+00   \n",
              "12   2682       No     Yes     Hiking Trail  2015/04/08 00:00:00+00   \n",
              "..    ...      ...     ...              ...                     ...   \n",
              "571  4063       No     Yes     Hiking Trail  2021/11/15 00:00:00+00   \n",
              "572  4071      Yes     Yes  Multi-Use Trail  2021/11/14 00:00:00+00   \n",
              "574  4074       No     Yes     Hiking Trail  2021/11/14 00:00:00+00   \n",
              "577  4078       No     Yes     Hiking Trail  2021/09/13 00:00:00+00   \n",
              "579  4080       No     Yes     Hiking Trail  2021/08/31 00:00:00+00   \n",
              "\n",
              "                     DateTo Horses  Mileage   Height  \\\n",
              "7    2099/12/31 00:00:00+00    Yes    0.071    439.0   \n",
              "9    2099/12/31 00:00:00+00     No    0.035    210.0   \n",
              "10   2099/12/31 00:00:00+00    Yes    1.953  10457.0   \n",
              "11   2099/12/31 00:00:00+00     No    0.030    159.0   \n",
              "12   2099/12/31 00:00:00+00     No    0.039    208.0   \n",
              "..                      ...    ...      ...      ...   \n",
              "571  2099/12/31 00:00:00+00    Yes    0.239   1270.0   \n",
              "572  2099/12/31 00:00:00+00    Yes    1.045   7393.0   \n",
              "574  2099/12/31 00:00:00+00    Yes    0.081    563.0   \n",
              "577  2099/12/31 00:00:00+00    Yes    0.059    311.0   \n",
              "579  2099/12/31 00:00:00+00    Yes    2.434  12920.0   \n",
              "\n",
              "                     TrailName                                GlobalID  \\\n",
              "7    Green Mountain West Ridge  {16900822-9700-4D25-8BA8-280FCCA71F61}   \n",
              "9    Green Mountain West Ridge  {1C46C186-2830-42FB-81A7-D4CE896DFEA8}   \n",
              "10                 Joder Ranch  {516AAE89-7726-4C99-A3C1-6E170B33E9C4}   \n",
              "11             Buckingham Park  {6F217AB6-26E3-42E6-BBAB-4287FE1D4DBD}   \n",
              "12             Buckingham Park  {2ADB7EEB-FC90-4097-86BF-9DF2AE1FE14C}   \n",
              "..                         ...                                     ...   \n",
              "571                 Tenderfoot  {5B04F5B0-E836-4E11-B86A-8F82E7F1F9C0}   \n",
              "572              Chapman Drive  {DA4F1EF4-8551-4969-AB4B-6A2FC0D90570}   \n",
              "574                 Tenderfoot  {030441AD-D99B-453D-A08B-6BF73213E49E}   \n",
              "577             Bluebell-Baird  {E481DBB2-384F-4C7A-8F46-D43615B6D28D}   \n",
              "579            Eldorado Canyon  {F189D9F2-A25A-4512-9434-238EB8017A40}   \n",
              "\n",
              "    Difficulty DogsAllowed DogReqABV                              DogReq  \\\n",
              "7     Moderate         Yes       LVS         On-Corridor Voice and Sight   \n",
              "9     Moderate         Yes       LVS         On-Corridor Voice and Sight   \n",
              "10   Difficult         Yes        RV  Leash Required on Portion of Trail   \n",
              "11        Easy         Yes        LR                      Leash Required   \n",
              "12        Easy         Yes        LR                      Leash Required   \n",
              "..         ...         ...       ...                                 ...   \n",
              "571   Moderate         Yes       LVS   Leash, Or Voice and Sight Control   \n",
              "572   Moderate         Yes       LVS   Leash, Or Voice and Sight Control   \n",
              "574   Moderate         Yes        LR                      Leash Required   \n",
              "577   Moderate         Yes       LVS   Leash, Or Voice and Sight Control   \n",
              "579  Difficult         Yes        LR                      Leash Required   \n",
              "\n",
              "    TrailStatus  \n",
              "7          Open  \n",
              "9          Open  \n",
              "10         Open  \n",
              "11         Open  \n",
              "12         Open  \n",
              "..          ...  \n",
              "571        Open  \n",
              "572        Open  \n",
              "574        Open  \n",
              "577        Open  \n",
              "579        Open  \n",
              "\n",
              "[522 rows x 16 columns]"
            ],
            "text/html": [
              "\n",
              "  <div id=\"df-130276ca-d38f-405c-95c6-757459c63e90\">\n",
              "    <div class=\"colab-df-container\">\n",
              "      <div>\n",
              "<style scoped>\n",
              "    .dataframe tbody tr th:only-of-type {\n",
              "        vertical-align: middle;\n",
              "    }\n",
              "\n",
              "    .dataframe tbody tr th {\n",
              "        vertical-align: top;\n",
              "    }\n",
              "\n",
              "    .dataframe thead th {\n",
              "        text-align: right;\n",
              "    }\n",
              "</style>\n",
              "<table border=\"1\" class=\"dataframe\">\n",
              "  <thead>\n",
              "    <tr style=\"text-align: right;\">\n",
              "      <th></th>\n",
              "      <th>ID</th>\n",
              "      <th>Bicycles</th>\n",
              "      <th>Display</th>\n",
              "      <th>TrailType</th>\n",
              "      <th>DateFrom</th>\n",
              "      <th>DateTo</th>\n",
              "      <th>Horses</th>\n",
              "      <th>Mileage</th>\n",
              "      <th>Height</th>\n",
              "      <th>TrailName</th>\n",
              "      <th>GlobalID</th>\n",
              "      <th>Difficulty</th>\n",
              "      <th>DogsAllowed</th>\n",
              "      <th>DogReqABV</th>\n",
              "      <th>DogReq</th>\n",
              "      <th>TrailStatus</th>\n",
              "    </tr>\n",
              "  </thead>\n",
              "  <tbody>\n",
              "    <tr>\n",
              "      <th>7</th>\n",
              "      <td>2675</td>\n",
              "      <td>No</td>\n",
              "      <td>Yes</td>\n",
              "      <td>Hiking Trail</td>\n",
              "      <td>2021/07/28 00:00:00+00</td>\n",
              "      <td>2099/12/31 00:00:00+00</td>\n",
              "      <td>Yes</td>\n",
              "      <td>0.071</td>\n",
              "      <td>439.0</td>\n",
              "      <td>Green Mountain West Ridge</td>\n",
              "      <td>{16900822-9700-4D25-8BA8-280FCCA71F61}</td>\n",
              "      <td>Moderate</td>\n",
              "      <td>Yes</td>\n",
              "      <td>LVS</td>\n",
              "      <td>On-Corridor Voice and Sight</td>\n",
              "      <td>Open</td>\n",
              "    </tr>\n",
              "    <tr>\n",
              "      <th>9</th>\n",
              "      <td>2679</td>\n",
              "      <td>No</td>\n",
              "      <td>Yes</td>\n",
              "      <td>Hiking Trail</td>\n",
              "      <td>2021/07/28 00:00:00+00</td>\n",
              "      <td>2099/12/31 00:00:00+00</td>\n",
              "      <td>No</td>\n",
              "      <td>0.035</td>\n",
              "      <td>210.0</td>\n",
              "      <td>Green Mountain West Ridge</td>\n",
              "      <td>{1C46C186-2830-42FB-81A7-D4CE896DFEA8}</td>\n",
              "      <td>Moderate</td>\n",
              "      <td>Yes</td>\n",
              "      <td>LVS</td>\n",
              "      <td>On-Corridor Voice and Sight</td>\n",
              "      <td>Open</td>\n",
              "    </tr>\n",
              "    <tr>\n",
              "      <th>10</th>\n",
              "      <td>2680</td>\n",
              "      <td>Yes</td>\n",
              "      <td>Yes</td>\n",
              "      <td>Multi-Use Trail</td>\n",
              "      <td>2016/06/07 00:00:00+00</td>\n",
              "      <td>2099/12/31 00:00:00+00</td>\n",
              "      <td>Yes</td>\n",
              "      <td>1.953</td>\n",
              "      <td>10457.0</td>\n",
              "      <td>Joder Ranch</td>\n",
              "      <td>{516AAE89-7726-4C99-A3C1-6E170B33E9C4}</td>\n",
              "      <td>Difficult</td>\n",
              "      <td>Yes</td>\n",
              "      <td>RV</td>\n",
              "      <td>Leash Required on Portion of Trail</td>\n",
              "      <td>Open</td>\n",
              "    </tr>\n",
              "    <tr>\n",
              "      <th>11</th>\n",
              "      <td>2681</td>\n",
              "      <td>No</td>\n",
              "      <td>Yes</td>\n",
              "      <td>Hiking Trail</td>\n",
              "      <td>2015/04/08 00:00:00+00</td>\n",
              "      <td>2099/12/31 00:00:00+00</td>\n",
              "      <td>No</td>\n",
              "      <td>0.030</td>\n",
              "      <td>159.0</td>\n",
              "      <td>Buckingham Park</td>\n",
              "      <td>{6F217AB6-26E3-42E6-BBAB-4287FE1D4DBD}</td>\n",
              "      <td>Easy</td>\n",
              "      <td>Yes</td>\n",
              "      <td>LR</td>\n",
              "      <td>Leash Required</td>\n",
              "      <td>Open</td>\n",
              "    </tr>\n",
              "    <tr>\n",
              "      <th>12</th>\n",
              "      <td>2682</td>\n",
              "      <td>No</td>\n",
              "      <td>Yes</td>\n",
              "      <td>Hiking Trail</td>\n",
              "      <td>2015/04/08 00:00:00+00</td>\n",
              "      <td>2099/12/31 00:00:00+00</td>\n",
              "      <td>No</td>\n",
              "      <td>0.039</td>\n",
              "      <td>208.0</td>\n",
              "      <td>Buckingham Park</td>\n",
              "      <td>{2ADB7EEB-FC90-4097-86BF-9DF2AE1FE14C}</td>\n",
              "      <td>Easy</td>\n",
              "      <td>Yes</td>\n",
              "      <td>LR</td>\n",
              "      <td>Leash Required</td>\n",
              "      <td>Open</td>\n",
              "    </tr>\n",
              "    <tr>\n",
              "      <th>...</th>\n",
              "      <td>...</td>\n",
              "      <td>...</td>\n",
              "      <td>...</td>\n",
              "      <td>...</td>\n",
              "      <td>...</td>\n",
              "      <td>...</td>\n",
              "      <td>...</td>\n",
              "      <td>...</td>\n",
              "      <td>...</td>\n",
              "      <td>...</td>\n",
              "      <td>...</td>\n",
              "      <td>...</td>\n",
              "      <td>...</td>\n",
              "      <td>...</td>\n",
              "      <td>...</td>\n",
              "      <td>...</td>\n",
              "    </tr>\n",
              "    <tr>\n",
              "      <th>571</th>\n",
              "      <td>4063</td>\n",
              "      <td>No</td>\n",
              "      <td>Yes</td>\n",
              "      <td>Hiking Trail</td>\n",
              "      <td>2021/11/15 00:00:00+00</td>\n",
              "      <td>2099/12/31 00:00:00+00</td>\n",
              "      <td>Yes</td>\n",
              "      <td>0.239</td>\n",
              "      <td>1270.0</td>\n",
              "      <td>Tenderfoot</td>\n",
              "      <td>{5B04F5B0-E836-4E11-B86A-8F82E7F1F9C0}</td>\n",
              "      <td>Moderate</td>\n",
              "      <td>Yes</td>\n",
              "      <td>LVS</td>\n",
              "      <td>Leash, Or Voice and Sight Control</td>\n",
              "      <td>Open</td>\n",
              "    </tr>\n",
              "    <tr>\n",
              "      <th>572</th>\n",
              "      <td>4071</td>\n",
              "      <td>Yes</td>\n",
              "      <td>Yes</td>\n",
              "      <td>Multi-Use Trail</td>\n",
              "      <td>2021/11/14 00:00:00+00</td>\n",
              "      <td>2099/12/31 00:00:00+00</td>\n",
              "      <td>Yes</td>\n",
              "      <td>1.045</td>\n",
              "      <td>7393.0</td>\n",
              "      <td>Chapman Drive</td>\n",
              "      <td>{DA4F1EF4-8551-4969-AB4B-6A2FC0D90570}</td>\n",
              "      <td>Moderate</td>\n",
              "      <td>Yes</td>\n",
              "      <td>LVS</td>\n",
              "      <td>Leash, Or Voice and Sight Control</td>\n",
              "      <td>Open</td>\n",
              "    </tr>\n",
              "    <tr>\n",
              "      <th>574</th>\n",
              "      <td>4074</td>\n",
              "      <td>No</td>\n",
              "      <td>Yes</td>\n",
              "      <td>Hiking Trail</td>\n",
              "      <td>2021/11/14 00:00:00+00</td>\n",
              "      <td>2099/12/31 00:00:00+00</td>\n",
              "      <td>Yes</td>\n",
              "      <td>0.081</td>\n",
              "      <td>563.0</td>\n",
              "      <td>Tenderfoot</td>\n",
              "      <td>{030441AD-D99B-453D-A08B-6BF73213E49E}</td>\n",
              "      <td>Moderate</td>\n",
              "      <td>Yes</td>\n",
              "      <td>LR</td>\n",
              "      <td>Leash Required</td>\n",
              "      <td>Open</td>\n",
              "    </tr>\n",
              "    <tr>\n",
              "      <th>577</th>\n",
              "      <td>4078</td>\n",
              "      <td>No</td>\n",
              "      <td>Yes</td>\n",
              "      <td>Hiking Trail</td>\n",
              "      <td>2021/09/13 00:00:00+00</td>\n",
              "      <td>2099/12/31 00:00:00+00</td>\n",
              "      <td>Yes</td>\n",
              "      <td>0.059</td>\n",
              "      <td>311.0</td>\n",
              "      <td>Bluebell-Baird</td>\n",
              "      <td>{E481DBB2-384F-4C7A-8F46-D43615B6D28D}</td>\n",
              "      <td>Moderate</td>\n",
              "      <td>Yes</td>\n",
              "      <td>LVS</td>\n",
              "      <td>Leash, Or Voice and Sight Control</td>\n",
              "      <td>Open</td>\n",
              "    </tr>\n",
              "    <tr>\n",
              "      <th>579</th>\n",
              "      <td>4080</td>\n",
              "      <td>No</td>\n",
              "      <td>Yes</td>\n",
              "      <td>Hiking Trail</td>\n",
              "      <td>2021/08/31 00:00:00+00</td>\n",
              "      <td>2099/12/31 00:00:00+00</td>\n",
              "      <td>Yes</td>\n",
              "      <td>2.434</td>\n",
              "      <td>12920.0</td>\n",
              "      <td>Eldorado Canyon</td>\n",
              "      <td>{F189D9F2-A25A-4512-9434-238EB8017A40}</td>\n",
              "      <td>Difficult</td>\n",
              "      <td>Yes</td>\n",
              "      <td>LR</td>\n",
              "      <td>Leash Required</td>\n",
              "      <td>Open</td>\n",
              "    </tr>\n",
              "  </tbody>\n",
              "</table>\n",
              "<p>522 rows × 16 columns</p>\n",
              "</div>\n",
              "      <button class=\"colab-df-convert\" onclick=\"convertToInteractive('df-130276ca-d38f-405c-95c6-757459c63e90')\"\n",
              "              title=\"Convert this dataframe to an interactive table.\"\n",
              "              style=\"display:none;\">\n",
              "        \n",
              "  <svg xmlns=\"http://www.w3.org/2000/svg\" height=\"24px\"viewBox=\"0 0 24 24\"\n",
              "       width=\"24px\">\n",
              "    <path d=\"M0 0h24v24H0V0z\" fill=\"none\"/>\n",
              "    <path d=\"M18.56 5.44l.94 2.06.94-2.06 2.06-.94-2.06-.94-.94-2.06-.94 2.06-2.06.94zm-11 1L8.5 8.5l.94-2.06 2.06-.94-2.06-.94L8.5 2.5l-.94 2.06-2.06.94zm10 10l.94 2.06.94-2.06 2.06-.94-2.06-.94-.94-2.06-.94 2.06-2.06.94z\"/><path d=\"M17.41 7.96l-1.37-1.37c-.4-.4-.92-.59-1.43-.59-.52 0-1.04.2-1.43.59L10.3 9.45l-7.72 7.72c-.78.78-.78 2.05 0 2.83L4 21.41c.39.39.9.59 1.41.59.51 0 1.02-.2 1.41-.59l7.78-7.78 2.81-2.81c.8-.78.8-2.07 0-2.86zM5.41 20L4 18.59l7.72-7.72 1.47 1.35L5.41 20z\"/>\n",
              "  </svg>\n",
              "      </button>\n",
              "      \n",
              "  <style>\n",
              "    .colab-df-container {\n",
              "      display:flex;\n",
              "      flex-wrap:wrap;\n",
              "      gap: 12px;\n",
              "    }\n",
              "\n",
              "    .colab-df-convert {\n",
              "      background-color: #E8F0FE;\n",
              "      border: none;\n",
              "      border-radius: 50%;\n",
              "      cursor: pointer;\n",
              "      display: none;\n",
              "      fill: #1967D2;\n",
              "      height: 32px;\n",
              "      padding: 0 0 0 0;\n",
              "      width: 32px;\n",
              "    }\n",
              "\n",
              "    .colab-df-convert:hover {\n",
              "      background-color: #E2EBFA;\n",
              "      box-shadow: 0px 1px 2px rgba(60, 64, 67, 0.3), 0px 1px 3px 1px rgba(60, 64, 67, 0.15);\n",
              "      fill: #174EA6;\n",
              "    }\n",
              "\n",
              "    [theme=dark] .colab-df-convert {\n",
              "      background-color: #3B4455;\n",
              "      fill: #D2E3FC;\n",
              "    }\n",
              "\n",
              "    [theme=dark] .colab-df-convert:hover {\n",
              "      background-color: #434B5C;\n",
              "      box-shadow: 0px 1px 3px 1px rgba(0, 0, 0, 0.15);\n",
              "      filter: drop-shadow(0px 1px 2px rgba(0, 0, 0, 0.3));\n",
              "      fill: #FFFFFF;\n",
              "    }\n",
              "  </style>\n",
              "\n",
              "      <script>\n",
              "        const buttonEl =\n",
              "          document.querySelector('#df-130276ca-d38f-405c-95c6-757459c63e90 button.colab-df-convert');\n",
              "        buttonEl.style.display =\n",
              "          google.colab.kernel.accessAllowed ? 'block' : 'none';\n",
              "\n",
              "        async function convertToInteractive(key) {\n",
              "          const element = document.querySelector('#df-130276ca-d38f-405c-95c6-757459c63e90');\n",
              "          const dataTable =\n",
              "            await google.colab.kernel.invokeFunction('convertToInteractive',\n",
              "                                                     [key], {});\n",
              "          if (!dataTable) return;\n",
              "\n",
              "          const docLinkHtml = 'Like what you see? Visit the ' +\n",
              "            '<a target=\"_blank\" href=https://colab.research.google.com/notebooks/data_table.ipynb>data table notebook</a>'\n",
              "            + ' to learn more about interactive tables.';\n",
              "          element.innerHTML = '';\n",
              "          dataTable['output_type'] = 'display_data';\n",
              "          await google.colab.output.renderOutput(dataTable, element);\n",
              "          const docLink = document.createElement('div');\n",
              "          docLink.innerHTML = docLinkHtml;\n",
              "          element.appendChild(docLink);\n",
              "        }\n",
              "      </script>\n",
              "    </div>\n",
              "  </div>\n",
              "  "
            ]
          },
          "metadata": {},
          "execution_count": 6
        }
      ]
    },
    {
      "cell_type": "markdown",
      "source": [
        "##Drop Missing Data"
      ],
      "metadata": {
        "id": "MizNqi14B8JS"
      }
    },
    {
      "cell_type": "code",
      "source": [
        "TrailsDF.isna().sum()"
      ],
      "metadata": {
        "colab": {
          "base_uri": "https://localhost:8080/"
        },
        "id": "wbNe8ufACKr3",
        "outputId": "591994a8-b7ca-466a-e305-2529360c61c2"
      },
      "execution_count": null,
      "outputs": [
        {
          "output_type": "execute_result",
          "data": {
            "text/plain": [
              "ID             0\n",
              "Bicycles       0\n",
              "Display        0\n",
              "TrailType      0\n",
              "DateFrom       0\n",
              "DateTo         0\n",
              "Horses         0\n",
              "Mileage        0\n",
              "Height         0\n",
              "TrailName      0\n",
              "GlobalID       0\n",
              "Difficulty     1\n",
              "DogsAllowed    0\n",
              "DogReqABV      0\n",
              "DogReq         0\n",
              "TrailStatus    0\n",
              "dtype: int64"
            ]
          },
          "metadata": {},
          "execution_count": 7
        }
      ]
    },
    {
      "cell_type": "code",
      "source": [
        "#Remove the rows that are blank in Height\n",
        "#TrailsDF.dropna(subset=[\"Height\"], inplace=True)\n",
        "TrailsDF.dropna(subset=[\"Difficulty\"], inplace = True)\n",
        "#TrailsDF.dropna(subset=[\"DogReq\"], inplace = True)\n",
        "TrailsDF.isna().sum()"
      ],
      "metadata": {
        "colab": {
          "base_uri": "https://localhost:8080/"
        },
        "id": "rm-oIdVrCNfp",
        "outputId": "792a8aa7-6f21-4bcd-b135-288c60e81d42"
      },
      "execution_count": null,
      "outputs": [
        {
          "output_type": "stream",
          "name": "stderr",
          "text": [
            "/usr/local/lib/python3.7/dist-packages/pandas/util/_decorators.py:311: SettingWithCopyWarning: \n",
            "A value is trying to be set on a copy of a slice from a DataFrame\n",
            "\n",
            "See the caveats in the documentation: https://pandas.pydata.org/pandas-docs/stable/user_guide/indexing.html#returning-a-view-versus-a-copy\n",
            "  return func(*args, **kwargs)\n"
          ]
        },
        {
          "output_type": "execute_result",
          "data": {
            "text/plain": [
              "ID             0\n",
              "Bicycles       0\n",
              "Display        0\n",
              "TrailType      0\n",
              "DateFrom       0\n",
              "DateTo         0\n",
              "Horses         0\n",
              "Mileage        0\n",
              "Height         0\n",
              "TrailName      0\n",
              "GlobalID       0\n",
              "Difficulty     0\n",
              "DogsAllowed    0\n",
              "DogReqABV      0\n",
              "DogReq         0\n",
              "TrailStatus    0\n",
              "dtype: int64"
            ]
          },
          "metadata": {},
          "execution_count": 8
        }
      ]
    },
    {
      "cell_type": "markdown",
      "source": [
        "#Trun objects into integers"
      ],
      "metadata": {
        "id": "vsWQ2iZ6CzFi"
      }
    },
    {
      "cell_type": "markdown",
      "source": [
        "Need to turn objects into integers. This will provide usable columns for the machine learning"
      ],
      "metadata": {
        "id": "m2WKP5kdCIew"
      }
    },
    {
      "cell_type": "code",
      "source": [
        "#Check the types\n",
        "TrailsDF.dtypes"
      ],
      "metadata": {
        "colab": {
          "base_uri": "https://localhost:8080/"
        },
        "id": "NBwsQW8NC5Bj",
        "outputId": "e1098d16-c143-4e77-b35c-80faf862a21f"
      },
      "execution_count": null,
      "outputs": [
        {
          "output_type": "execute_result",
          "data": {
            "text/plain": [
              "ID               int64\n",
              "Bicycles        object\n",
              "Display         object\n",
              "TrailType       object\n",
              "DateFrom        object\n",
              "DateTo          object\n",
              "Horses          object\n",
              "Mileage        float64\n",
              "Height         float64\n",
              "TrailName       object\n",
              "GlobalID        object\n",
              "Difficulty      object\n",
              "DogsAllowed     object\n",
              "DogReqABV       object\n",
              "DogReq          object\n",
              "TrailStatus     object\n",
              "dtype: object"
            ]
          },
          "metadata": {},
          "execution_count": 10
        }
      ]
    },
    {
      "cell_type": "code",
      "source": [
        "#Convert all the object columns to numbers\n",
        "\n",
        "label = LabelEncoder()\n",
        "label.fit(TrailsDF.Bicycles)\n",
        "TrailsDF.Bicycles = label.transform(TrailsDF.Bicycles)\n",
        "label.fit(TrailsDF.Display)\n",
        "TrailsDF.Display = label.transform(TrailsDF.Display)\n",
        "label.fit(TrailsDF.TrailType)\n",
        "TrailsDF.TrailType = label.transform(TrailsDF.TrailType)\n",
        "label.fit(TrailsDF.DateFrom)\n",
        "TrailsDF.DateFrom = label.transform(TrailsDF.DateFrom)\n",
        "label.fit(TrailsDF.DateTo)\n",
        "TrailsDF.DateTo = label.transform(TrailsDF.DateTo)\n",
        "label.fit(TrailsDF.Horses)\n",
        "TrailsDF.Horses = label.transform(TrailsDF.Horses)\n",
        "label.fit(TrailsDF.TrailName)\n",
        "TrailsDF.TrailName = label.transform(TrailsDF.TrailName)\n",
        "label.fit(TrailsDF.GlobalID)\n",
        "TrailsDF.GlobalID = label.transform(TrailsDF.GlobalID)\n",
        "label.fit(TrailsDF.Difficulty)\n",
        "TrailsDF.Difficulty = label.transform(TrailsDF.Difficulty)\n",
        "label.fit(TrailsDF.DogsAllowed)\n",
        "TrailsDF.DogsAllowed = label.transform(TrailsDF.DogsAllowed)\n",
        "label.fit(TrailsDF.DogReqABV)\n",
        "TrailsDF.DogReqABV = label.transform(TrailsDF.DogReqABV)\n",
        "label.fit(TrailsDF.DogReq)\n",
        "TrailsDF.DogReq = label.transform(TrailsDF.DogReq)\n",
        "label.fit(TrailsDF.TrailStatus)\n",
        "TrailsDF.TrailStatus = label.transform(TrailsDF.TrailStatus)\n"
      ],
      "metadata": {
        "colab": {
          "base_uri": "https://localhost:8080/"
        },
        "id": "2s-aVlTBGE-S",
        "outputId": "31aecbed-790a-41c6-b7ff-6a694e5444b2"
      },
      "execution_count": null,
      "outputs": [
        {
          "output_type": "stream",
          "name": "stderr",
          "text": [
            "/usr/local/lib/python3.7/dist-packages/pandas/core/generic.py:5516: SettingWithCopyWarning: \n",
            "A value is trying to be set on a copy of a slice from a DataFrame.\n",
            "Try using .loc[row_indexer,col_indexer] = value instead\n",
            "\n",
            "See the caveats in the documentation: https://pandas.pydata.org/pandas-docs/stable/user_guide/indexing.html#returning-a-view-versus-a-copy\n",
            "  self[name] = value\n"
          ]
        }
      ]
    },
    {
      "cell_type": "code",
      "source": [
        "#Check the types again\n",
        "TrailsDF.dtypes"
      ],
      "metadata": {
        "colab": {
          "base_uri": "https://localhost:8080/"
        },
        "id": "jKP36yIvItpz",
        "outputId": "4a5bb071-077b-4256-8d2c-b0336f3d7025"
      },
      "execution_count": null,
      "outputs": [
        {
          "output_type": "execute_result",
          "data": {
            "text/plain": [
              "ID               int64\n",
              "Bicycles         int64\n",
              "Display          int64\n",
              "TrailType        int64\n",
              "DateFrom         int64\n",
              "DateTo           int64\n",
              "Horses           int64\n",
              "Mileage        float64\n",
              "Height         float64\n",
              "TrailName        int64\n",
              "GlobalID         int64\n",
              "Difficulty       int64\n",
              "DogsAllowed      int64\n",
              "DogReqABV        int64\n",
              "DogReq           int64\n",
              "TrailStatus      int64\n",
              "dtype: object"
            ]
          },
          "metadata": {},
          "execution_count": 12
        }
      ]
    },
    {
      "cell_type": "code",
      "source": [
        "TrailsDF"
      ],
      "metadata": {
        "colab": {
          "base_uri": "https://localhost:8080/",
          "height": 424
        },
        "id": "QGgJGdZuIvpw",
        "outputId": "d8ee5f50-bc75-4427-ec0f-c83a7a0ae9a6"
      },
      "execution_count": null,
      "outputs": [
        {
          "output_type": "execute_result",
          "data": {
            "text/plain": [
              "       ID  Bicycles  Display  TrailType  DateFrom  DateTo  Horses  Mileage  \\\n",
              "7    2675         0        0          0       107       0       1    0.071   \n",
              "9    2679         0        0          0       107       0       0    0.035   \n",
              "10   2680         1        0          1        12       0       1    1.953   \n",
              "11   2681         0        0          0         5       0       0    0.030   \n",
              "12   2682         0        0          0         5       0       0    0.039   \n",
              "..    ...       ...      ...        ...       ...     ...     ...      ...   \n",
              "571  4063         0        0          0       123       0       1    0.239   \n",
              "572  4071         1        0          1       122       0       1    1.045   \n",
              "574  4074         0        0          0       122       0       1    0.081   \n",
              "577  4078         0        0          0       121       0       1    0.059   \n",
              "579  4080         0        0          0       119       0       1    2.434   \n",
              "\n",
              "      Height  TrailName  GlobalID  Difficulty  DogsAllowed  DogReqABV  DogReq  \\\n",
              "7      439.0         69        48           2            1          1       7   \n",
              "9      210.0         69        60           2            1          1       7   \n",
              "10   10457.0         81       164           0            1          3       2   \n",
              "11     159.0         21       226           1            1          0       1   \n",
              "12     208.0         21        84           1            1          0       1   \n",
              "..       ...        ...       ...         ...          ...        ...     ...   \n",
              "571   1270.0        153       178           2            1          1       4   \n",
              "572   7393.0         23       429           2            1          1       4   \n",
              "574    563.0        153         6           2            1          0       1   \n",
              "577    311.0         17       459           2            1          1       4   \n",
              "579  12920.0         51       483           0            1          0       1   \n",
              "\n",
              "     TrailStatus  \n",
              "7              1  \n",
              "9              1  \n",
              "10             1  \n",
              "11             1  \n",
              "12             1  \n",
              "..           ...  \n",
              "571            1  \n",
              "572            1  \n",
              "574            1  \n",
              "577            1  \n",
              "579            1  \n",
              "\n",
              "[521 rows x 16 columns]"
            ],
            "text/html": [
              "\n",
              "  <div id=\"df-7c5e83a0-a98c-4cfe-a007-0df80b1bdc4d\">\n",
              "    <div class=\"colab-df-container\">\n",
              "      <div>\n",
              "<style scoped>\n",
              "    .dataframe tbody tr th:only-of-type {\n",
              "        vertical-align: middle;\n",
              "    }\n",
              "\n",
              "    .dataframe tbody tr th {\n",
              "        vertical-align: top;\n",
              "    }\n",
              "\n",
              "    .dataframe thead th {\n",
              "        text-align: right;\n",
              "    }\n",
              "</style>\n",
              "<table border=\"1\" class=\"dataframe\">\n",
              "  <thead>\n",
              "    <tr style=\"text-align: right;\">\n",
              "      <th></th>\n",
              "      <th>ID</th>\n",
              "      <th>Bicycles</th>\n",
              "      <th>Display</th>\n",
              "      <th>TrailType</th>\n",
              "      <th>DateFrom</th>\n",
              "      <th>DateTo</th>\n",
              "      <th>Horses</th>\n",
              "      <th>Mileage</th>\n",
              "      <th>Height</th>\n",
              "      <th>TrailName</th>\n",
              "      <th>GlobalID</th>\n",
              "      <th>Difficulty</th>\n",
              "      <th>DogsAllowed</th>\n",
              "      <th>DogReqABV</th>\n",
              "      <th>DogReq</th>\n",
              "      <th>TrailStatus</th>\n",
              "    </tr>\n",
              "  </thead>\n",
              "  <tbody>\n",
              "    <tr>\n",
              "      <th>7</th>\n",
              "      <td>2675</td>\n",
              "      <td>0</td>\n",
              "      <td>0</td>\n",
              "      <td>0</td>\n",
              "      <td>107</td>\n",
              "      <td>0</td>\n",
              "      <td>1</td>\n",
              "      <td>0.071</td>\n",
              "      <td>439.0</td>\n",
              "      <td>69</td>\n",
              "      <td>48</td>\n",
              "      <td>2</td>\n",
              "      <td>1</td>\n",
              "      <td>1</td>\n",
              "      <td>7</td>\n",
              "      <td>1</td>\n",
              "    </tr>\n",
              "    <tr>\n",
              "      <th>9</th>\n",
              "      <td>2679</td>\n",
              "      <td>0</td>\n",
              "      <td>0</td>\n",
              "      <td>0</td>\n",
              "      <td>107</td>\n",
              "      <td>0</td>\n",
              "      <td>0</td>\n",
              "      <td>0.035</td>\n",
              "      <td>210.0</td>\n",
              "      <td>69</td>\n",
              "      <td>60</td>\n",
              "      <td>2</td>\n",
              "      <td>1</td>\n",
              "      <td>1</td>\n",
              "      <td>7</td>\n",
              "      <td>1</td>\n",
              "    </tr>\n",
              "    <tr>\n",
              "      <th>10</th>\n",
              "      <td>2680</td>\n",
              "      <td>1</td>\n",
              "      <td>0</td>\n",
              "      <td>1</td>\n",
              "      <td>12</td>\n",
              "      <td>0</td>\n",
              "      <td>1</td>\n",
              "      <td>1.953</td>\n",
              "      <td>10457.0</td>\n",
              "      <td>81</td>\n",
              "      <td>164</td>\n",
              "      <td>0</td>\n",
              "      <td>1</td>\n",
              "      <td>3</td>\n",
              "      <td>2</td>\n",
              "      <td>1</td>\n",
              "    </tr>\n",
              "    <tr>\n",
              "      <th>11</th>\n",
              "      <td>2681</td>\n",
              "      <td>0</td>\n",
              "      <td>0</td>\n",
              "      <td>0</td>\n",
              "      <td>5</td>\n",
              "      <td>0</td>\n",
              "      <td>0</td>\n",
              "      <td>0.030</td>\n",
              "      <td>159.0</td>\n",
              "      <td>21</td>\n",
              "      <td>226</td>\n",
              "      <td>1</td>\n",
              "      <td>1</td>\n",
              "      <td>0</td>\n",
              "      <td>1</td>\n",
              "      <td>1</td>\n",
              "    </tr>\n",
              "    <tr>\n",
              "      <th>12</th>\n",
              "      <td>2682</td>\n",
              "      <td>0</td>\n",
              "      <td>0</td>\n",
              "      <td>0</td>\n",
              "      <td>5</td>\n",
              "      <td>0</td>\n",
              "      <td>0</td>\n",
              "      <td>0.039</td>\n",
              "      <td>208.0</td>\n",
              "      <td>21</td>\n",
              "      <td>84</td>\n",
              "      <td>1</td>\n",
              "      <td>1</td>\n",
              "      <td>0</td>\n",
              "      <td>1</td>\n",
              "      <td>1</td>\n",
              "    </tr>\n",
              "    <tr>\n",
              "      <th>...</th>\n",
              "      <td>...</td>\n",
              "      <td>...</td>\n",
              "      <td>...</td>\n",
              "      <td>...</td>\n",
              "      <td>...</td>\n",
              "      <td>...</td>\n",
              "      <td>...</td>\n",
              "      <td>...</td>\n",
              "      <td>...</td>\n",
              "      <td>...</td>\n",
              "      <td>...</td>\n",
              "      <td>...</td>\n",
              "      <td>...</td>\n",
              "      <td>...</td>\n",
              "      <td>...</td>\n",
              "      <td>...</td>\n",
              "    </tr>\n",
              "    <tr>\n",
              "      <th>571</th>\n",
              "      <td>4063</td>\n",
              "      <td>0</td>\n",
              "      <td>0</td>\n",
              "      <td>0</td>\n",
              "      <td>123</td>\n",
              "      <td>0</td>\n",
              "      <td>1</td>\n",
              "      <td>0.239</td>\n",
              "      <td>1270.0</td>\n",
              "      <td>153</td>\n",
              "      <td>178</td>\n",
              "      <td>2</td>\n",
              "      <td>1</td>\n",
              "      <td>1</td>\n",
              "      <td>4</td>\n",
              "      <td>1</td>\n",
              "    </tr>\n",
              "    <tr>\n",
              "      <th>572</th>\n",
              "      <td>4071</td>\n",
              "      <td>1</td>\n",
              "      <td>0</td>\n",
              "      <td>1</td>\n",
              "      <td>122</td>\n",
              "      <td>0</td>\n",
              "      <td>1</td>\n",
              "      <td>1.045</td>\n",
              "      <td>7393.0</td>\n",
              "      <td>23</td>\n",
              "      <td>429</td>\n",
              "      <td>2</td>\n",
              "      <td>1</td>\n",
              "      <td>1</td>\n",
              "      <td>4</td>\n",
              "      <td>1</td>\n",
              "    </tr>\n",
              "    <tr>\n",
              "      <th>574</th>\n",
              "      <td>4074</td>\n",
              "      <td>0</td>\n",
              "      <td>0</td>\n",
              "      <td>0</td>\n",
              "      <td>122</td>\n",
              "      <td>0</td>\n",
              "      <td>1</td>\n",
              "      <td>0.081</td>\n",
              "      <td>563.0</td>\n",
              "      <td>153</td>\n",
              "      <td>6</td>\n",
              "      <td>2</td>\n",
              "      <td>1</td>\n",
              "      <td>0</td>\n",
              "      <td>1</td>\n",
              "      <td>1</td>\n",
              "    </tr>\n",
              "    <tr>\n",
              "      <th>577</th>\n",
              "      <td>4078</td>\n",
              "      <td>0</td>\n",
              "      <td>0</td>\n",
              "      <td>0</td>\n",
              "      <td>121</td>\n",
              "      <td>0</td>\n",
              "      <td>1</td>\n",
              "      <td>0.059</td>\n",
              "      <td>311.0</td>\n",
              "      <td>17</td>\n",
              "      <td>459</td>\n",
              "      <td>2</td>\n",
              "      <td>1</td>\n",
              "      <td>1</td>\n",
              "      <td>4</td>\n",
              "      <td>1</td>\n",
              "    </tr>\n",
              "    <tr>\n",
              "      <th>579</th>\n",
              "      <td>4080</td>\n",
              "      <td>0</td>\n",
              "      <td>0</td>\n",
              "      <td>0</td>\n",
              "      <td>119</td>\n",
              "      <td>0</td>\n",
              "      <td>1</td>\n",
              "      <td>2.434</td>\n",
              "      <td>12920.0</td>\n",
              "      <td>51</td>\n",
              "      <td>483</td>\n",
              "      <td>0</td>\n",
              "      <td>1</td>\n",
              "      <td>0</td>\n",
              "      <td>1</td>\n",
              "      <td>1</td>\n",
              "    </tr>\n",
              "  </tbody>\n",
              "</table>\n",
              "<p>521 rows × 16 columns</p>\n",
              "</div>\n",
              "      <button class=\"colab-df-convert\" onclick=\"convertToInteractive('df-7c5e83a0-a98c-4cfe-a007-0df80b1bdc4d')\"\n",
              "              title=\"Convert this dataframe to an interactive table.\"\n",
              "              style=\"display:none;\">\n",
              "        \n",
              "  <svg xmlns=\"http://www.w3.org/2000/svg\" height=\"24px\"viewBox=\"0 0 24 24\"\n",
              "       width=\"24px\">\n",
              "    <path d=\"M0 0h24v24H0V0z\" fill=\"none\"/>\n",
              "    <path d=\"M18.56 5.44l.94 2.06.94-2.06 2.06-.94-2.06-.94-.94-2.06-.94 2.06-2.06.94zm-11 1L8.5 8.5l.94-2.06 2.06-.94-2.06-.94L8.5 2.5l-.94 2.06-2.06.94zm10 10l.94 2.06.94-2.06 2.06-.94-2.06-.94-.94-2.06-.94 2.06-2.06.94z\"/><path d=\"M17.41 7.96l-1.37-1.37c-.4-.4-.92-.59-1.43-.59-.52 0-1.04.2-1.43.59L10.3 9.45l-7.72 7.72c-.78.78-.78 2.05 0 2.83L4 21.41c.39.39.9.59 1.41.59.51 0 1.02-.2 1.41-.59l7.78-7.78 2.81-2.81c.8-.78.8-2.07 0-2.86zM5.41 20L4 18.59l7.72-7.72 1.47 1.35L5.41 20z\"/>\n",
              "  </svg>\n",
              "      </button>\n",
              "      \n",
              "  <style>\n",
              "    .colab-df-container {\n",
              "      display:flex;\n",
              "      flex-wrap:wrap;\n",
              "      gap: 12px;\n",
              "    }\n",
              "\n",
              "    .colab-df-convert {\n",
              "      background-color: #E8F0FE;\n",
              "      border: none;\n",
              "      border-radius: 50%;\n",
              "      cursor: pointer;\n",
              "      display: none;\n",
              "      fill: #1967D2;\n",
              "      height: 32px;\n",
              "      padding: 0 0 0 0;\n",
              "      width: 32px;\n",
              "    }\n",
              "\n",
              "    .colab-df-convert:hover {\n",
              "      background-color: #E2EBFA;\n",
              "      box-shadow: 0px 1px 2px rgba(60, 64, 67, 0.3), 0px 1px 3px 1px rgba(60, 64, 67, 0.15);\n",
              "      fill: #174EA6;\n",
              "    }\n",
              "\n",
              "    [theme=dark] .colab-df-convert {\n",
              "      background-color: #3B4455;\n",
              "      fill: #D2E3FC;\n",
              "    }\n",
              "\n",
              "    [theme=dark] .colab-df-convert:hover {\n",
              "      background-color: #434B5C;\n",
              "      box-shadow: 0px 1px 3px 1px rgba(0, 0, 0, 0.15);\n",
              "      filter: drop-shadow(0px 1px 2px rgba(0, 0, 0, 0.3));\n",
              "      fill: #FFFFFF;\n",
              "    }\n",
              "  </style>\n",
              "\n",
              "      <script>\n",
              "        const buttonEl =\n",
              "          document.querySelector('#df-7c5e83a0-a98c-4cfe-a007-0df80b1bdc4d button.colab-df-convert');\n",
              "        buttonEl.style.display =\n",
              "          google.colab.kernel.accessAllowed ? 'block' : 'none';\n",
              "\n",
              "        async function convertToInteractive(key) {\n",
              "          const element = document.querySelector('#df-7c5e83a0-a98c-4cfe-a007-0df80b1bdc4d');\n",
              "          const dataTable =\n",
              "            await google.colab.kernel.invokeFunction('convertToInteractive',\n",
              "                                                     [key], {});\n",
              "          if (!dataTable) return;\n",
              "\n",
              "          const docLinkHtml = 'Like what you see? Visit the ' +\n",
              "            '<a target=\"_blank\" href=https://colab.research.google.com/notebooks/data_table.ipynb>data table notebook</a>'\n",
              "            + ' to learn more about interactive tables.';\n",
              "          element.innerHTML = '';\n",
              "          dataTable['output_type'] = 'display_data';\n",
              "          await google.colab.output.renderOutput(dataTable, element);\n",
              "          const docLink = document.createElement('div');\n",
              "          docLink.innerHTML = docLinkHtml;\n",
              "          element.appendChild(docLink);\n",
              "        }\n",
              "      </script>\n",
              "    </div>\n",
              "  </div>\n",
              "  "
            ]
          },
          "metadata": {},
          "execution_count": 13
        }
      ]
    },
    {
      "cell_type": "markdown",
      "source": [
        "Now that the imports are loaded and all preproccessing of the CSV file has been made, it is time to start making prediction models."
      ],
      "metadata": {
        "id": "1lnyW-kbC9BW"
      }
    },
    {
      "cell_type": "markdown",
      "source": [
        "#Create A Model"
      ],
      "metadata": {
        "id": "DAn80TacD0lz"
      }
    },
    {
      "cell_type": "markdown",
      "source": [
        "Regression prediction Model. This is the first model used.\n",
        "It will return the prediction of the height, based on the other columns in the data frame."
      ],
      "metadata": {
        "id": "6S6AaLO9AnNq"
      }
    },
    {
      "cell_type": "code",
      "source": [
        "#Model to Create\n",
        "#Seperate for X and y\n",
        "X = TrailsDF.drop(\"Height\", axis=1)\n",
        "y = TrailsDF[\"Height\"]\n",
        "\n",
        "np.random.seed(42)\n",
        "\n",
        "#set up test and train data\n",
        "X_train, X_test, y_train, y_test = train_test_split(X, y, test_size = 0.2)\n",
        "\n",
        "# Machine learning Model\n",
        "model = RandomForestRegressor()\n",
        "model.fit(X_train, y_train)\n",
        "model.score(X_test, y_test)"
      ],
      "metadata": {
        "colab": {
          "base_uri": "https://localhost:8080/"
        },
        "id": "KvWZ8RqBDotp",
        "outputId": "d97633f3-e786-4003-a27c-f6412b196f07"
      },
      "execution_count": null,
      "outputs": [
        {
          "output_type": "execute_result",
          "data": {
            "text/plain": [
              "0.9820248106222087"
            ]
          },
          "metadata": {},
          "execution_count": 14
        }
      ]
    },
    {
      "cell_type": "markdown",
      "source": [
        "The above value is the percentage of acuracy that the algorithm will predict the height."
      ],
      "metadata": {
        "id": "ihsTYIhGDRut"
      }
    },
    {
      "cell_type": "markdown",
      "source": [
        "At this point is is applicable to try a new model to see if there is a better model at making predictions. The Random Forest Regressor model was chosen."
      ],
      "metadata": {
        "id": "2lE_5lYXDZ7P"
      }
    },
    {
      "cell_type": "markdown",
      "source": [
        "Prediction with Regression"
      ],
      "metadata": {
        "id": "IcMljxSMApqs"
      }
    },
    {
      "cell_type": "code",
      "source": [
        "np.random.seed(42)\n",
        "\n",
        "#set up test and train data\n",
        "X_train, X_test, y_train, y_test = train_test_split(X, y, test_size = 0.2)\n",
        "\n",
        "#Model\n",
        "model = RandomForestRegressor()\n",
        "#Fit the model\n",
        "model.fit(X_train, y_train)\n",
        "#predict\n",
        "y_prediction = model.predict(X_test)"
      ],
      "metadata": {
        "id": "Ed1G4MXdAsCe"
      },
      "execution_count": null,
      "outputs": []
    },
    {
      "cell_type": "code",
      "source": [
        "#Predictions\n",
        "y_prediction[:10]"
      ],
      "metadata": {
        "colab": {
          "base_uri": "https://localhost:8080/"
        },
        "id": "kXOjBUg0BJm_",
        "outputId": "10a5958e-2b94-4ed6-c5ac-f4a2e9132c39"
      },
      "execution_count": null,
      "outputs": [
        {
          "output_type": "execute_result",
          "data": {
            "text/plain": [
              "array([ 656.77,  224.7 ,   52.61, 3626.19,  663.88,  428.69,  598.29,\n",
              "        597.91,  399.  ,  277.71])"
            ]
          },
          "metadata": {},
          "execution_count": 16
        }
      ]
    },
    {
      "cell_type": "markdown",
      "source": [
        "y_prediction returns predicted values for each column."
      ],
      "metadata": {
        "id": "lML2sF7bDr7q"
      }
    },
    {
      "cell_type": "code",
      "source": [
        "#actual values\n",
        "np.array(y_test[:10])"
      ],
      "metadata": {
        "colab": {
          "base_uri": "https://localhost:8080/"
        },
        "id": "58s2EYBjBSfW",
        "outputId": "4915fa29-ab93-43f0-d61e-2209f6250955"
      },
      "execution_count": null,
      "outputs": [
        {
          "output_type": "execute_result",
          "data": {
            "text/plain": [
              "array([ 671.,  261.,   52., 3965.,  683.,  417.,  654.,  595.,  349.,\n",
              "        272.])"
            ]
          },
          "metadata": {},
          "execution_count": 17
        }
      ]
    },
    {
      "cell_type": "markdown",
      "source": [
        "np.array of the y_test gives the actual values."
      ],
      "metadata": {
        "id": "iBaIvB-YEDLj"
      }
    },
    {
      "cell_type": "code",
      "source": [
        "#Compare the Prediction\n",
        "from sklearn.metrics import mean_absolute_error\n",
        "mean_absolute_error(y_test, y_prediction)"
      ],
      "metadata": {
        "colab": {
          "base_uri": "https://localhost:8080/"
        },
        "id": "7dHKCgyRBln6",
        "outputId": "0dcc74ec-df20-4bac-e82e-6e6308a10f41"
      },
      "execution_count": null,
      "outputs": [
        {
          "output_type": "execute_result",
          "data": {
            "text/plain": [
              "95.39447619047617"
            ]
          },
          "metadata": {},
          "execution_count": 18
        }
      ]
    },
    {
      "cell_type": "markdown",
      "source": [
        "The y_prediction and y_test are compared to return an average difference between the actual and predicted values for each column."
      ],
      "metadata": {
        "id": "pceCukn4EMyc"
      }
    },
    {
      "cell_type": "markdown",
      "source": [
        "##Prediction Ridge"
      ],
      "metadata": {
        "id": "Q3ZMciTGSmkg"
      }
    },
    {
      "cell_type": "markdown",
      "source": [
        "The Prediction Ridge Model is now used to compare with Regression prediction Model."
      ],
      "metadata": {
        "id": "gjdYq5FhZU9D"
      }
    },
    {
      "cell_type": "markdown",
      "source": [
        "The Prediction Ridge Model uses the columns excluding the Height to Predict the Height value."
      ],
      "metadata": {
        "id": "JLLnW-c9FAY6"
      }
    },
    {
      "cell_type": "code",
      "source": [
        "#algorithm\n",
        "from sklearn.linear_model import Ridge \n",
        "\n",
        "# setup random seed\n",
        "np.random.seed(42)\n",
        "\n",
        "#create data\n",
        "X= TrailsDF.drop(\"Height\", axis=1)\n",
        "y = TrailsDF[\"Height\"]\n",
        "\n",
        "#split into train and test sets\n",
        "X_train, X_test, y_train, y_test = train_test_split(X, y, test_size=0.2)\n",
        "\n",
        "#instantiate and fit the model \n",
        "model = Ridge()\n",
        "model.fit(X_train, y_train)\n",
        "\n",
        "#Check score of model on test set\n",
        "model.score(X_test, y_test)"
      ],
      "metadata": {
        "colab": {
          "base_uri": "https://localhost:8080/"
        },
        "id": "8241aW0nZZw3",
        "outputId": "c9ad9432-ce32-44f8-cafb-4cea31979159"
      },
      "execution_count": null,
      "outputs": [
        {
          "output_type": "execute_result",
          "data": {
            "text/plain": [
              "0.9985125474499817"
            ]
          },
          "metadata": {},
          "execution_count": 19
        }
      ]
    },
    {
      "cell_type": "markdown",
      "source": [
        "The value returned from the Prediction Ridge is at nearly 100%. This is a better fitting model for this data. The Prediction Ridge Model will be used to make a prediction."
      ],
      "metadata": {
        "id": "N9qEzsQYEwCP"
      }
    },
    {
      "cell_type": "markdown",
      "source": [
        "##Compare results of the Ridge model with the actual values"
      ],
      "metadata": {
        "id": "Ao7cTfNRUbl9"
      }
    },
    {
      "cell_type": "code",
      "source": [
        "np.random.seed(42)\n",
        "\n",
        "#set up test and train data\n",
        "X_train, X_test, y_train, y_test = train_test_split(X, y, test_size = 0.2)\n",
        "\n",
        "#Model\n",
        "model = Ridge()\n",
        "#Fit the model\n",
        "model.fit(X_train, y_train)\n",
        "#predict\n",
        "y_prediction = model.predict(X_test)"
      ],
      "metadata": {
        "id": "qnGDIZgaUcB5"
      },
      "execution_count": null,
      "outputs": []
    },
    {
      "cell_type": "code",
      "source": [
        "#Predictions\n",
        "y_prediction[:10]"
      ],
      "metadata": {
        "colab": {
          "base_uri": "https://localhost:8080/"
        },
        "id": "z66o_b9VUnvE",
        "outputId": "7491e1fe-ce44-40ac-c8ee-4d6f333e9b2e"
      },
      "execution_count": null,
      "outputs": [
        {
          "output_type": "execute_result",
          "data": {
            "text/plain": [
              "array([ 721.93547722,  261.6530314 ,   40.26989445, 3739.34610267,\n",
              "        679.86948877,  448.03076966,  555.65857663,  607.4248756 ,\n",
              "        400.95706531,  307.99103164])"
            ]
          },
          "metadata": {},
          "execution_count": 21
        }
      ]
    },
    {
      "cell_type": "code",
      "source": [
        "#actual values\n",
        "np.array(y_test[:10])"
      ],
      "metadata": {
        "colab": {
          "base_uri": "https://localhost:8080/"
        },
        "id": "Zd5b3jwLUrhR",
        "outputId": "3ff1c3fb-0026-4d60-b6fb-237aa5a7f5a9"
      },
      "execution_count": null,
      "outputs": [
        {
          "output_type": "execute_result",
          "data": {
            "text/plain": [
              "array([ 671.,  261.,   52., 3965.,  683.,  417.,  654.,  595.,  349.,\n",
              "        272.])"
            ]
          },
          "metadata": {},
          "execution_count": 22
        }
      ]
    },
    {
      "cell_type": "code",
      "source": [
        "#Compare the Prediction\n",
        "print(\"The average difference between the actual values and the predicted values is:\", mean_absolute_error(y_test, y_prediction))\n"
      ],
      "metadata": {
        "colab": {
          "base_uri": "https://localhost:8080/"
        },
        "id": "RixsRKD5U6vm",
        "outputId": "b57d0d8d-bac1-4141-a223-c31be373159a"
      },
      "execution_count": null,
      "outputs": [
        {
          "output_type": "stream",
          "name": "stdout",
          "text": [
            "The average difference between the actual values and the predicted values is: 57.16476667751528\n"
          ]
        }
      ]
    },
    {
      "cell_type": "markdown",
      "source": [
        "#Make a Prediction"
      ],
      "metadata": {
        "id": "d30UkyJ8Zei4"
      }
    },
    {
      "cell_type": "markdown",
      "source": [
        "Time to get user Inputs to make a prediction"
      ],
      "metadata": {
        "id": "EbOjfcv5FQ2i"
      }
    },
    {
      "cell_type": "markdown",
      "source": [
        "##Get User Inputs"
      ],
      "metadata": {
        "id": "oyjjc5pBZg7b"
      }
    },
    {
      "cell_type": "markdown",
      "source": [
        "Sliders have been created for each column (excluding the Height column) in order to make a prediction about the Height. \n",
        "\n",
        "A user should move the sliders to make choices"
      ],
      "metadata": {
        "id": "Q95VBmnJFb0E"
      }
    },
    {
      "cell_type": "code",
      "source": [
        "#Create a Slider for user inputs\n",
        "SELECT_ID = 0 #@param {type:\"slider\", min:0, max:4080, step:100}\n",
        "SELECT_BICYCLES = 1 #@param {type:\"slider\", min:0, max:1, step:1}\n",
        "SELECT_DISPLAY = 0 #@param {type:\"slider\", min:0, max:1, step:1}\n",
        "SELECT_TRAILTYPE = 1 #@param {type:\"slider\", min:0, max:1, step:1}\n",
        "SELECT_DATEFROM = 91 #@param {type:\"slider\", min:1, max:125, step:5}\n",
        "SELECT_DATETO = 1 #@param {type:\"slider\", min:0, max:1, step:1}\n",
        "SELECT_HORSES = 1 #@param {type:\"slider\", min:0, max:1, step:1}\n",
        "SELECT_MILEAGE = 18 #@param {type:\"slider\", min:0, max:20, step:1}\n",
        "SELECT_TRAILNAME = 40 #@param {type:\"slider\", min:0, max:160, step:10}\n",
        "SELECT_GLOBALID = 101 #@param {type:\"slider\", min:1, max:521, step:10}\n",
        "SELECT_DIFFICULTY = 0 #@param {type:\"slider\", min:0, max:2, step:1}\n",
        "SELECT_DOGSALLOWED = 0 #@param {type:\"slider\", min:0, max:1, step:1}\n",
        "SELECT_DOGSREQABV = 0 #@param {type:\"slider\", min:0, max:3, step:1}\n",
        "SELECT_DOGREQ = 2 #@param {type:\"slider\", min:0, max:6, step:1}\n",
        "SELECT_TRAILSTATUS = 0 #@param {type:\"slider\", min:0, max:1, step:1}\n"
      ],
      "metadata": {
        "id": "zqM-2zk8M-lX"
      },
      "execution_count": null,
      "outputs": []
    },
    {
      "cell_type": "markdown",
      "source": [
        "##Provide Prediction based on user inputs"
      ],
      "metadata": {
        "id": "g6d4zFPgZkdX"
      }
    },
    {
      "cell_type": "markdown",
      "source": [
        "Now that the user inputs have been made, it is time to get a prediction."
      ],
      "metadata": {
        "id": "YIz48EpDFykB"
      }
    },
    {
      "cell_type": "code",
      "source": [
        "#Provide prediction based on the user inputs\n",
        "print(\"The Predicted height is:\\n\", model.predict([[SELECT_ID, SELECT_BICYCLES, SELECT_DISPLAY, SELECT_TRAILTYPE, \n",
        "                                                    SELECT_DATEFROM, SELECT_DATETO, SELECT_HORSES, SELECT_MILEAGE, SELECT_TRAILNAME, SELECT_GLOBALID, \n",
        "                                                    SELECT_DIFFICULTY, SELECT_DOGSALLOWED, SELECT_DOGSREQABV, SELECT_DOGREQ, SELECT_TRAILSTATUS]]))\n"
      ],
      "metadata": {
        "id": "euc9JYMaNkO5",
        "colab": {
          "base_uri": "https://localhost:8080/"
        },
        "outputId": "c421f4d2-12d2-4d21-85ff-264915c37083"
      },
      "execution_count": null,
      "outputs": [
        {
          "output_type": "stream",
          "name": "stdout",
          "text": [
            "The Predicted height is:\n",
            " [93284.13792164]\n"
          ]
        },
        {
          "output_type": "stream",
          "name": "stderr",
          "text": [
            "/usr/local/lib/python3.7/dist-packages/sklearn/base.py:451: UserWarning: X does not have valid feature names, but Ridge was fitted with feature names\n",
            "  \"X does not have valid feature names, but\"\n"
          ]
        }
      ]
    },
    {
      "cell_type": "code",
      "source": [
        ""
      ],
      "metadata": {
        "id": "HMFiBEvQKOm1"
      },
      "execution_count": null,
      "outputs": []
    },
    {
      "cell_type": "markdown",
      "source": [
        "#Create Charts"
      ],
      "metadata": {
        "id": "meMV_HxFIXm8"
      }
    },
    {
      "cell_type": "markdown",
      "source": [
        "Scatter Plot\n",
        "This shows the relation between height, mileage, and if the trail allows bicycles. In this case 0 is no bicycles and 1 is bicycles allowed."
      ],
      "metadata": {
        "id": "xogX9GKr8tLN"
      }
    },
    {
      "cell_type": "code",
      "source": [
        "#Creating a plot of the Mileage, Height, and Trail Type\n",
        "fix, ax = plt.subplots(figsize = (10,6))\n",
        "scatter = ax.scatter(x=TrailsDF[\"Mileage\"], y=TrailsDF[\"Height\"], c=TrailsDF[\"Bicycles\"]);\n",
        "\n",
        "#Title\n",
        "ax.set(title=\"Trail Height, Distance, and Bicycles\", xlabel = \"Mileage\", ylabel= \"Height\");\n",
        "\n",
        "#legend\n",
        "ax.legend(*scatter.legend_elements(), title= \"Bicycles\")\n",
        "\n",
        "#Horizontal Line\n",
        "ax.axhline(TrailsDF[\"Height\"].mean(), linestyle='--')\n"
      ],
      "metadata": {
        "colab": {
          "base_uri": "https://localhost:8080/",
          "height": 421
        },
        "id": "O09mDi-BHBVx",
        "outputId": "e061624d-2e99-4888-fedb-049d379e1f19"
      },
      "execution_count": null,
      "outputs": [
        {
          "output_type": "execute_result",
          "data": {
            "text/plain": [
              "<matplotlib.lines.Line2D at 0x7fa3013db050>"
            ]
          },
          "metadata": {},
          "execution_count": 35
        },
        {
          "output_type": "display_data",
          "data": {
            "text/plain": [
              "<Figure size 720x432 with 1 Axes>"
            ],
            "image/png": "[encoded data removed]"
          },
          "metadata": {
            "needs_background": "light"
          }
        }
      ]
    },
    {
      "cell_type": "markdown",
      "source": [
        "Create a chart of Mileage and Height using the Best Fit Line"
      ],
      "metadata": {
        "id": "7T4PsPdqVIWQ"
      }
    },
    {
      "cell_type": "code",
      "source": [
        "sns.lmplot(x=\"Mileage\", y=\"Height\", data=TrailsDF);"
      ],
      "metadata": {
        "colab": {
          "base_uri": "https://localhost:8080/",
          "height": 369
        },
        "id": "mfd0b-PNVH_8",
        "outputId": "44198ca6-9d93-4382-bda0-febbd6b01f40"
      },
      "execution_count": null,
      "outputs": [
        {
          "output_type": "display_data",
          "data": {
            "text/plain": [
              "<Figure size 360x360 with 1 Axes>"
            ],
            "image/png": "[encoded data removed]"
          },
          "metadata": {
            "needs_background": "light"
          }
        }
      ]
    },
    {
      "cell_type": "markdown",
      "source": [
        "Pie Chart\n",
        "Create a pie chart using Difficulty of the trails"
      ],
      "metadata": {
        "id": "ZSEt18d3O7aL"
      }
    },
    {
      "cell_type": "code",
      "source": [
        "#choose the colors\n",
        "colors = ['lightgreen', 'Orange', 'red']\n",
        "#add space between each piece of the pie\n",
        "explode = (0.05, 0.05, 0.05)\n",
        "#add Labels\n",
        "labels = 'Easy', 'Moderate', 'Difficult'\n",
        "#Make the chart\n",
        "TrailsDF.groupby(['Difficulty']).sum().plot(kind='pie', y='TrailName', autopct='%1.0f%%', colors=colors, legend = True, title= 'Trail Difficulty', ylabel='', explode=explode, labels=labels)\n",
        "\n"
      ],
      "metadata": {
        "colab": {
          "base_uri": "https://localhost:8080/",
          "height": 281
        },
        "id": "cb9wExX5O9N4",
        "outputId": "ab6e51e7-7119-4086-8491-60c6d9692346"
      },
      "execution_count": null,
      "outputs": [
        {
          "output_type": "execute_result",
          "data": {
            "text/plain": [
              "<matplotlib.axes._subplots.AxesSubplot at 0x7fa2fe3f2f50>"
            ]
          },
          "metadata": {},
          "execution_count": 37
        },
        {
          "output_type": "display_data",
          "data": {
            "text/plain": [
              "<Figure size 432x288 with 1 Axes>"
            ],
            "image/png": "[encoded data removed]"
          },
          "metadata": {}
        }
      ]
    },
    {
      "cell_type": "markdown",
      "source": [
        "Bubble Chart\n",
        "This bubble chart shows the relation between mileage, trail status of open or closed, and the difficulty of the trail."
      ],
      "metadata": {
        "id": "WpYv5d2WN8sJ"
      }
    },
    {
      "cell_type": "code",
      "source": [
        "#Make a bubble graph\n",
        "sns.scatterplot(data=TrailsDF, x=\"TrailStatus\", y=\"Mileage\", size=\"Difficulty\", legend=True, sizes=(20, 2000))\n",
        "# show the graph\n",
        "plt.show()"
      ],
      "metadata": {
        "colab": {
          "base_uri": "https://localhost:8080/",
          "height": 279
        },
        "id": "2Loga3y1N-Z0",
        "outputId": "15203397-3187-462b-b0dd-68eb4ea3097c"
      },
      "execution_count": null,
      "outputs": [
        {
          "output_type": "display_data",
          "data": {
            "text/plain": [
              "<Figure size 432x288 with 1 Axes>"
            ],
            "image/png": "[encoded data removed]"
          },
          "metadata": {
            "needs_background": "light"
          }
        }
      ]
    },
    {
      "cell_type": "markdown",
      "source": [
        "The Histogram shows that most trails are below 2000 feet high. It shows that nearly 400 trails have a height that is less that 2000 feet."
      ],
      "metadata": {
        "id": "URSInQdG8viQ"
      }
    },
    {
      "cell_type": "code",
      "source": [
        "#Histogram\n",
        "TrailsDF[\"Height\"].plot.hist();"
      ],
      "metadata": {
        "colab": {
          "base_uri": "https://localhost:8080/",
          "height": 268
        },
        "id": "Atm8OAfsJo4i",
        "outputId": "6f69c0bb-f928-4c9d-9fbf-332e918bb477"
      },
      "execution_count": null,
      "outputs": [
        {
          "output_type": "display_data",
          "data": {
            "text/plain": [
              "<Figure size 432x288 with 1 Axes>"
            ],
            "image/png": "[encoded data removed]"
          },
          "metadata": {
            "needs_background": "light"
          }
        }
      ]
    },
    {
      "cell_type": "markdown",
      "source": [
        "Bar graph shows the relation between bicycles and difficulty."
      ],
      "metadata": {
        "id": "KOGUZK5t81PX"
      }
    },
    {
      "cell_type": "code",
      "source": [
        "#Bar Graph\n",
        "TrailsDF.plot(x=\"Bicycles\", y=[\"Difficulty\"], kind=\"bar\", figsize=(10, 5), color = 'Red')"
      ],
      "metadata": {
        "id": "zQfjTV2KP4VO",
        "colab": {
          "base_uri": "https://localhost:8080/",
          "height": 347
        },
        "outputId": "dc5d5dad-79f1-4842-d4bf-12f47ddc1048"
      },
      "execution_count": null,
      "outputs": [
        {
          "output_type": "execute_result",
          "data": {
            "text/plain": [
              "<matplotlib.axes._subplots.AxesSubplot at 0x7fa2fe0f4d50>"
            ]
          },
          "metadata": {},
          "execution_count": 41
        },
        {
          "output_type": "display_data",
          "data": {
            "text/plain": [
              "<Figure size 720x360 with 1 Axes>"
            ],
            "image/png": "[encoded data removed]"
          },
          "metadata": {
            "needs_background": "light"
          }
        }
      ]
    },
    {
      "cell_type": "markdown",
      "source": [
        "Trail details are shown below."
      ],
      "metadata": {
        "id": "3drbFv8hIJEI"
      }
    },
    {
      "cell_type": "code",
      "source": [
        "#Show the data description\n",
        "TrailsDF.describe().T"
      ],
      "metadata": {
        "colab": {
          "base_uri": "https://localhost:8080/",
          "height": 551
        },
        "id": "yNm7HHKSGd3A",
        "outputId": "8671548f-49d8-4cb5-8475-ecdcda3fc81c"
      },
      "execution_count": null,
      "outputs": [
        {
          "output_type": "execute_result",
          "data": {
            "text/plain": [
              "             count         mean          std       min       25%       50%  \\\n",
              "ID           521.0  2979.781190   211.401982  2675.000  2823.000  2976.000   \n",
              "Bicycles     521.0     0.226488     0.418960     0.000     0.000     0.000   \n",
              "Display      521.0     0.000000     0.000000     0.000     0.000     0.000   \n",
              "TrailType    521.0     0.224568     0.417699     0.000     0.000     0.000   \n",
              "DateFrom     521.0    36.654511    37.227208     0.000     1.000    24.000   \n",
              "DateTo       521.0     0.000000     0.000000     0.000     0.000     0.000   \n",
              "Horses       521.0     0.811900     0.391167     0.000     1.000     1.000   \n",
              "Mileage      521.0     0.261155     0.393294     0.003     0.036     0.109   \n",
              "Height       521.0  1385.631478  2097.541870    15.000   182.000   574.000   \n",
              "TrailName    521.0    82.819578    46.502461     0.000    43.000    83.000   \n",
              "GlobalID     521.0   260.000000   150.544013     0.000   130.000   260.000   \n",
              "Difficulty   521.0     1.266795     0.544051     0.000     1.000     1.000   \n",
              "DogsAllowed  521.0     0.944338     0.229489     0.000     1.000     1.000   \n",
              "DogReqABV    521.0     0.785029     0.601158     0.000     0.000     1.000   \n",
              "DogReq       521.0     3.251440     1.618440     0.000     1.000     4.000   \n",
              "TrailStatus  521.0     0.992322     0.087368     0.000     1.000     1.000   \n",
              "\n",
              "                  75%        max  \n",
              "ID           3110.000   4080.000  \n",
              "Bicycles        0.000      1.000  \n",
              "Display         0.000      0.000  \n",
              "TrailType       0.000      1.000  \n",
              "DateFrom       70.000    123.000  \n",
              "DateTo          0.000      0.000  \n",
              "Horses          1.000      1.000  \n",
              "Mileage         0.307      2.779  \n",
              "Height       1617.000  14775.000  \n",
              "TrailName     125.000    159.000  \n",
              "GlobalID      390.000    520.000  \n",
              "Difficulty      2.000      2.000  \n",
              "DogsAllowed     1.000      1.000  \n",
              "DogReqABV       1.000      3.000  \n",
              "DogReq          4.000      8.000  \n",
              "TrailStatus     1.000      1.000  "
            ],
            "text/html": [
              "\n",
              "  <div id=\"df-83f9ba29-b9b3-4a25-9827-8183eeacd5e7\">\n",
              "    <div class=\"colab-df-container\">\n",
              "      <div>\n",
              "<style scoped>\n",
              "    .dataframe tbody tr th:only-of-type {\n",
              "        vertical-align: middle;\n",
              "    }\n",
              "\n",
              "    .dataframe tbody tr th {\n",
              "        vertical-align: top;\n",
              "    }\n",
              "\n",
              "    .dataframe thead th {\n",
              "        text-align: right;\n",
              "    }\n",
              "</style>\n",
              "<table border=\"1\" class=\"dataframe\">\n",
              "  <thead>\n",
              "    <tr style=\"text-align: right;\">\n",
              "      <th></th>\n",
              "      <th>count</th>\n",
              "      <th>mean</th>\n",
              "      <th>std</th>\n",
              "      <th>min</th>\n",
              "      <th>25%</th>\n",
              "      <th>50%</th>\n",
              "      <th>75%</th>\n",
              "      <th>max</th>\n",
              "    </tr>\n",
              "  </thead>\n",
              "  <tbody>\n",
              "    <tr>\n",
              "      <th>ID</th>\n",
              "      <td>521.0</td>\n",
              "      <td>2979.781190</td>\n",
              "      <td>211.401982</td>\n",
              "      <td>2675.000</td>\n",
              "      <td>2823.000</td>\n",
              "      <td>2976.000</td>\n",
              "      <td>3110.000</td>\n",
              "      <td>4080.000</td>\n",
              "    </tr>\n",
              "    <tr>\n",
              "      <th>Bicycles</th>\n",
              "      <td>521.0</td>\n",
              "      <td>0.226488</td>\n",
              "      <td>0.418960</td>\n",
              "      <td>0.000</td>\n",
              "      <td>0.000</td>\n",
              "      <td>0.000</td>\n",
              "      <td>0.000</td>\n",
              "      <td>1.000</td>\n",
              "    </tr>\n",
              "    <tr>\n",
              "      <th>Display</th>\n",
              "      <td>521.0</td>\n",
              "      <td>0.000000</td>\n",
              "      <td>0.000000</td>\n",
              "      <td>0.000</td>\n",
              "      <td>0.000</td>\n",
              "      <td>0.000</td>\n",
              "      <td>0.000</td>\n",
              "      <td>0.000</td>\n",
              "    </tr>\n",
              "    <tr>\n",
              "      <th>TrailType</th>\n",
              "      <td>521.0</td>\n",
              "      <td>0.224568</td>\n",
              "      <td>0.417699</td>\n",
              "      <td>0.000</td>\n",
              "      <td>0.000</td>\n",
              "      <td>0.000</td>\n",
              "      <td>0.000</td>\n",
              "      <td>1.000</td>\n",
              "    </tr>\n",
              "    <tr>\n",
              "      <th>DateFrom</th>\n",
              "      <td>521.0</td>\n",
              "      <td>36.654511</td>\n",
              "      <td>37.227208</td>\n",
              "      <td>0.000</td>\n",
              "      <td>1.000</td>\n",
              "      <td>24.000</td>\n",
              "      <td>70.000</td>\n",
              "      <td>123.000</td>\n",
              "    </tr>\n",
              "    <tr>\n",
              "      <th>DateTo</th>\n",
              "      <td>521.0</td>\n",
              "      <td>0.000000</td>\n",
              "      <td>0.000000</td>\n",
              "      <td>0.000</td>\n",
              "      <td>0.000</td>\n",
              "      <td>0.000</td>\n",
              "      <td>0.000</td>\n",
              "      <td>0.000</td>\n",
              "    </tr>\n",
              "    <tr>\n",
              "      <th>Horses</th>\n",
              "      <td>521.0</td>\n",
              "      <td>0.811900</td>\n",
              "      <td>0.391167</td>\n",
              "      <td>0.000</td>\n",
              "      <td>1.000</td>\n",
              "      <td>1.000</td>\n",
              "      <td>1.000</td>\n",
              "      <td>1.000</td>\n",
              "    </tr>\n",
              "    <tr>\n",
              "      <th>Mileage</th>\n",
              "      <td>521.0</td>\n",
              "      <td>0.261155</td>\n",
              "      <td>0.393294</td>\n",
              "      <td>0.003</td>\n",
              "      <td>0.036</td>\n",
              "      <td>0.109</td>\n",
              "      <td>0.307</td>\n",
              "      <td>2.779</td>\n",
              "    </tr>\n",
              "    <tr>\n",
              "      <th>Height</th>\n",
              "      <td>521.0</td>\n",
              "      <td>1385.631478</td>\n",
              "      <td>2097.541870</td>\n",
              "      <td>15.000</td>\n",
              "      <td>182.000</td>\n",
              "      <td>574.000</td>\n",
              "      <td>1617.000</td>\n",
              "      <td>14775.000</td>\n",
              "    </tr>\n",
              "    <tr>\n",
              "      <th>TrailName</th>\n",
              "      <td>521.0</td>\n",
              "      <td>82.819578</td>\n",
              "      <td>46.502461</td>\n",
              "      <td>0.000</td>\n",
              "      <td>43.000</td>\n",
              "      <td>83.000</td>\n",
              "      <td>125.000</td>\n",
              "      <td>159.000</td>\n",
              "    </tr>\n",
              "    <tr>\n",
              "      <th>GlobalID</th>\n",
              "      <td>521.0</td>\n",
              "      <td>260.000000</td>\n",
              "      <td>150.544013</td>\n",
              "      <td>0.000</td>\n",
              "      <td>130.000</td>\n",
              "      <td>260.000</td>\n",
              "      <td>390.000</td>\n",
              "      <td>520.000</td>\n",
              "    </tr>\n",
              "    <tr>\n",
              "      <th>Difficulty</th>\n",
              "      <td>521.0</td>\n",
              "      <td>1.266795</td>\n",
              "      <td>0.544051</td>\n",
              "      <td>0.000</td>\n",
              "      <td>1.000</td>\n",
              "      <td>1.000</td>\n",
              "      <td>2.000</td>\n",
              "      <td>2.000</td>\n",
              "    </tr>\n",
              "    <tr>\n",
              "      <th>DogsAllowed</th>\n",
              "      <td>521.0</td>\n",
              "      <td>0.944338</td>\n",
              "      <td>0.229489</td>\n",
              "      <td>0.000</td>\n",
              "      <td>1.000</td>\n",
              "      <td>1.000</td>\n",
              "      <td>1.000</td>\n",
              "      <td>1.000</td>\n",
              "    </tr>\n",
              "    <tr>\n",
              "      <th>DogReqABV</th>\n",
              "      <td>521.0</td>\n",
              "      <td>0.785029</td>\n",
              "      <td>0.601158</td>\n",
              "      <td>0.000</td>\n",
              "      <td>0.000</td>\n",
              "      <td>1.000</td>\n",
              "      <td>1.000</td>\n",
              "      <td>3.000</td>\n",
              "    </tr>\n",
              "    <tr>\n",
              "      <th>DogReq</th>\n",
              "      <td>521.0</td>\n",
              "      <td>3.251440</td>\n",
              "      <td>1.618440</td>\n",
              "      <td>0.000</td>\n",
              "      <td>1.000</td>\n",
              "      <td>4.000</td>\n",
              "      <td>4.000</td>\n",
              "      <td>8.000</td>\n",
              "    </tr>\n",
              "    <tr>\n",
              "      <th>TrailStatus</th>\n",
              "      <td>521.0</td>\n",
              "      <td>0.992322</td>\n",
              "      <td>0.087368</td>\n",
              "      <td>0.000</td>\n",
              "      <td>1.000</td>\n",
              "      <td>1.000</td>\n",
              "      <td>1.000</td>\n",
              "      <td>1.000</td>\n",
              "    </tr>\n",
              "  </tbody>\n",
              "</table>\n",
              "</div>\n",
              "      <button class=\"colab-df-convert\" onclick=\"convertToInteractive('df-83f9ba29-b9b3-4a25-9827-8183eeacd5e7')\"\n",
              "              title=\"Convert this dataframe to an interactive table.\"\n",
              "              style=\"display:none;\">\n",
              "        \n",
              "  <svg xmlns=\"http://www.w3.org/2000/svg\" height=\"24px\"viewBox=\"0 0 24 24\"\n",
              "       width=\"24px\">\n",
              "    <path d=\"M0 0h24v24H0V0z\" fill=\"none\"/>\n",
              "    <path d=\"M18.56 5.44l.94 2.06.94-2.06 2.06-.94-2.06-.94-.94-2.06-.94 2.06-2.06.94zm-11 1L8.5 8.5l.94-2.06 2.06-.94-2.06-.94L8.5 2.5l-.94 2.06-2.06.94zm10 10l.94 2.06.94-2.06 2.06-.94-2.06-.94-.94-2.06-.94 2.06-2.06.94z\"/><path d=\"M17.41 7.96l-1.37-1.37c-.4-.4-.92-.59-1.43-.59-.52 0-1.04.2-1.43.59L10.3 9.45l-7.72 7.72c-.78.78-.78 2.05 0 2.83L4 21.41c.39.39.9.59 1.41.59.51 0 1.02-.2 1.41-.59l7.78-7.78 2.81-2.81c.8-.78.8-2.07 0-2.86zM5.41 20L4 18.59l7.72-7.72 1.47 1.35L5.41 20z\"/>\n",
              "  </svg>\n",
              "      </button>\n",
              "      \n",
              "  <style>\n",
              "    .colab-df-container {\n",
              "      display:flex;\n",
              "      flex-wrap:wrap;\n",
              "      gap: 12px;\n",
              "    }\n",
              "\n",
              "    .colab-df-convert {\n",
              "      background-color: #E8F0FE;\n",
              "      border: none;\n",
              "      border-radius: 50%;\n",
              "      cursor: pointer;\n",
              "      display: none;\n",
              "      fill: #1967D2;\n",
              "      height: 32px;\n",
              "      padding: 0 0 0 0;\n",
              "      width: 32px;\n",
              "    }\n",
              "\n",
              "    .colab-df-convert:hover {\n",
              "      background-color: #E2EBFA;\n",
              "      box-shadow: 0px 1px 2px rgba(60, 64, 67, 0.3), 0px 1px 3px 1px rgba(60, 64, 67, 0.15);\n",
              "      fill: #174EA6;\n",
              "    }\n",
              "\n",
              "    [theme=dark] .colab-df-convert {\n",
              "      background-color: #3B4455;\n",
              "      fill: #D2E3FC;\n",
              "    }\n",
              "\n",
              "    [theme=dark] .colab-df-convert:hover {\n",
              "      background-color: #434B5C;\n",
              "      box-shadow: 0px 1px 3px 1px rgba(0, 0, 0, 0.15);\n",
              "      filter: drop-shadow(0px 1px 2px rgba(0, 0, 0, 0.3));\n",
              "      fill: #FFFFFF;\n",
              "    }\n",
              "  </style>\n",
              "\n",
              "      <script>\n",
              "        const buttonEl =\n",
              "          document.querySelector('#df-83f9ba29-b9b3-4a25-9827-8183eeacd5e7 button.colab-df-convert');\n",
              "        buttonEl.style.display =\n",
              "          google.colab.kernel.accessAllowed ? 'block' : 'none';\n",
              "\n",
              "        async function convertToInteractive(key) {\n",
              "          const element = document.querySelector('#df-83f9ba29-b9b3-4a25-9827-8183eeacd5e7');\n",
              "          const dataTable =\n",
              "            await google.colab.kernel.invokeFunction('convertToInteractive',\n",
              "                                                     [key], {});\n",
              "          if (!dataTable) return;\n",
              "\n",
              "          const docLinkHtml = 'Like what you see? Visit the ' +\n",
              "            '<a target=\"_blank\" href=https://colab.research.google.com/notebooks/data_table.ipynb>data table notebook</a>'\n",
              "            + ' to learn more about interactive tables.';\n",
              "          element.innerHTML = '';\n",
              "          dataTable['output_type'] = 'display_data';\n",
              "          await google.colab.output.renderOutput(dataTable, element);\n",
              "          const docLink = document.createElement('div');\n",
              "          docLink.innerHTML = docLinkHtml;\n",
              "          element.appendChild(docLink);\n",
              "        }\n",
              "      </script>\n",
              "    </div>\n",
              "  </div>\n",
              "  "
            ]
          },
          "metadata": {},
          "execution_count": 42
        }
      ]
    }
  ]
}